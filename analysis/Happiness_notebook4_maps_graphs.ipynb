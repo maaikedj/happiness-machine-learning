{
 "cells": [
  {
   "cell_type": "markdown",
   "metadata": {},
   "source": [
    "# Analysis of the UN's World Happiness Index with machine learning\n",
    "\n",
    "Maaike de Jong  \n",
    "June 2020  \n",
    "  \n",
    "See the repository's [README](https://github.com/maaikedj/happiness-machine-learning/blob/master/README.md) file for background and details on the analysis and data.  \n",
    "\n",
    "### Notebook 4: Data visualization with graphs and maps\n",
    "In this notebook I visualize the relationship between the World Happiness Index with the World Bank's World Development Indicators.\n",
    "  "
   ]
  },
  {
   "cell_type": "code",
   "execution_count": null,
   "metadata": {},
   "outputs": [],
   "source": [
    "# import packages\n",
    "\n",
    "import numpy as np\n",
    "import pandas as pd\n",
    "from scipy import stats\n",
    "\n",
    "import matplotlib.pyplot as plt\n",
    "import matplotlib.cm as cm\n",
    "import matplotlib.patches as mpatches\n",
    "import seaborn as sns\n",
    "\n",
    "import geopandas as gpd\n",
    "from shapely.geometry import Point\n",
    "from shapely.geometry.polygon import Polygon\n",
    "from shapely import wkt"
   ]
  },
  {
   "cell_type": "code",
   "execution_count": null,
   "metadata": {
    "scrolled": true
   },
   "outputs": [],
   "source": [
    "# import data file with log transformations for some of the variables (see end of notebook 2)\n",
    "\n",
    "df = pd.read_csv('dfML_clean_tr.csv')\n",
    "df.head()"
   ]
  },
  {
   "cell_type": "markdown",
   "metadata": {},
   "source": [
    "### Regression plots\n",
    "\n",
    "Figures to visualise the regression between happiness score and variables"
   ]
  },
  {
   "cell_type": "code",
   "execution_count": null,
   "metadata": {
    "scrolled": false
   },
   "outputs": [],
   "source": [
    "# define function for figure\n",
    "\n",
    "def regplot(df, col_name):\n",
    "    sns.set()\n",
    "    sns.set_style('white')\n",
    "    sns.set_color_codes('pastel')\n",
    "\n",
    "    f, ax = plt.subplots(figsize=(8, 6))\n",
    "\n",
    "    sns.regplot(x = 'Happiness score', y = col_name, color = 'royalblue', data = df)\n",
    "\n",
    "    ax.tick_params(axis='both', which='major', labelsize=14) \n",
    "    ax.tick_params(axis='both', which='minor', labelsize=14)\n",
    "    ax.set_xticks(range(3, 9, 1))\n",
    "\n",
    "    plt.xlabel('Happiness score', fontsize=16)\n",
    "    plt.ylabel(col_name, fontsize=16)\n",
    "    plt.suptitle('Regression between Happiness score and ' + col_name, fontsize=16)\n",
    "\n",
    "    sns.despine()\n",
    "\n",
    "    return plt.show()"
   ]
  },
  {
   "cell_type": "code",
   "execution_count": null,
   "metadata": {
    "scrolled": false
   },
   "outputs": [],
   "source": [
    "# plot three top variables \n",
    "\n",
    "regplot(df, 'GDP per capita (log)')"
   ]
  },
  {
   "cell_type": "code",
   "execution_count": null,
   "metadata": {},
   "outputs": [],
   "source": [
    "regplot(df, 'Life expectancy')"
   ]
  },
  {
   "cell_type": "code",
   "execution_count": null,
   "metadata": {
    "scrolled": true
   },
   "outputs": [],
   "source": [
    "regplot(df, 'Refugees % (log)')"
   ]
  },
  {
   "cell_type": "markdown",
   "metadata": {},
   "source": [
    "### Creating a world map of World Happiness Score\n",
    "\n",
    "And compare with variable scores on world map"
   ]
  },
  {
   "cell_type": "code",
   "execution_count": null,
   "metadata": {
    "scrolled": true
   },
   "outputs": [],
   "source": [
    "# import world map geodataframe. The lowres worldmap dataset from Natural Earth can be imported directly from geopandas\n",
    "\n",
    "world = gpd.read_file(gpd.datasets.get_path('naturalearth_lowres'))\n",
    "world.rename(columns = {'name': 'Country'}, inplace = True)\n",
    "world.head()"
   ]
  },
  {
   "cell_type": "code",
   "execution_count": null,
   "metadata": {},
   "outputs": [],
   "source": [
    "world.shape"
   ]
  },
  {
   "cell_type": "code",
   "execution_count": null,
   "metadata": {},
   "outputs": [],
   "source": [
    "# import merged dataframe from end of notebook 1\n",
    "\n",
    "df2 = pd.read_csv('dfML.csv')"
   ]
  },
  {
   "cell_type": "code",
   "execution_count": null,
   "metadata": {},
   "outputs": [],
   "source": [
    "df2.shape"
   ]
  },
  {
   "cell_type": "code",
   "execution_count": null,
   "metadata": {},
   "outputs": [],
   "source": [
    "# Will merge this with main df on country. First check whether country names are the samelist15 = hap15_s1['Country'].values.tolist()\n",
    "list1 = df2['Country'].values.tolist()\n",
    "\n",
    "list2 = world['Country'].values.tolist()"
   ]
  },
  {
   "cell_type": "code",
   "execution_count": null,
   "metadata": {},
   "outputs": [],
   "source": [
    "sorted(list(set(list1) - set(list2)))"
   ]
  },
  {
   "cell_type": "code",
   "execution_count": null,
   "metadata": {},
   "outputs": [],
   "source": [
    "sorted(list(set(list2) - set(list1)))"
   ]
  },
  {
   "cell_type": "code",
   "execution_count": null,
   "metadata": {},
   "outputs": [],
   "source": [
    "# replace names\n",
    "\n",
    "world2 = world.replace({'Country': {'Bosnia and Herz.': 'Bosnia and Herzegovina', 'Central African Rep.': 'Central African Republic', 'Congo': 'Congo (Brazzaville)', 'Dem. Rep. Congo': 'Congo (Kinshasa)', 'Czechia': 'Czech Republic', 'Dominican Rep.': 'Dominican Republic', \"Côte d'Ivoire\": 'Ivory Coast', 'Palestine': 'Palestinian Territories', 'S. Sudan': 'South Sudan', 'eSwatini': 'Swaziland', 'United States of America': 'United States'}})\n"
   ]
  },
  {
   "cell_type": "code",
   "execution_count": null,
   "metadata": {},
   "outputs": [],
   "source": [
    "# create new world df without Antarctica: \n",
    "\n",
    "world3 = world2[world2['Country'] != 'Antarctica']"
   ]
  },
  {
   "cell_type": "code",
   "execution_count": null,
   "metadata": {},
   "outputs": [],
   "source": [
    "# join this df with the main df\n",
    "\n",
    "dfgeo = pd.merge(world3, df2, on = 'Country', how = 'left')"
   ]
  },
  {
   "cell_type": "code",
   "execution_count": null,
   "metadata": {},
   "outputs": [],
   "source": [
    "gdf = gpd.GeoDataFrame(dfgeo, geometry = 'geometry')\n",
    "gdf.head()"
   ]
  },
  {
   "cell_type": "code",
   "execution_count": null,
   "metadata": {},
   "outputs": [],
   "source": [
    "type(gdf['geometry'])"
   ]
  },
  {
   "cell_type": "code",
   "execution_count": null,
   "metadata": {},
   "outputs": [],
   "source": [
    "# Create choropleth maps of happiness score and other variables per country\n",
    "\n",
    "# first check whether the country map data is complete\n",
    "plt.rcParams['figure.figsize'] = [16,8]\n",
    "gdf.plot(facecolor = 'silver', edgecolor = 'grey');"
   ]
  },
  {
   "cell_type": "code",
   "execution_count": null,
   "metadata": {},
   "outputs": [],
   "source": [
    "# Fill happiness score NaNs with zeroes\n",
    "gdf['Score mean'] = gdf['Score mean'].fillna(value = 0)"
   ]
  },
  {
   "cell_type": "code",
   "execution_count": null,
   "metadata": {
    "scrolled": false
   },
   "outputs": [],
   "source": [
    "# plot the map with happiness scores\n",
    "\n",
    "plt.rcParams['figure.figsize'] = [20, 10]\n",
    "fig, ax = plt.subplots(1, 1)\n",
    "\n",
    "gdf.plot(column='Score mean', legend=True, ax = ax, cmap='summer_r', scheme='user_defined', classification_kwds = {'bins':[3, 4, 5, 6, 7, 8]})\n",
    "\n",
    "cmap = cm.get_cmap('summer_r')\n",
    "patch1 = mpatches.Patch(color=cmap(0.0), label = 'No data')\n",
    "patch2 = mpatches.Patch(color=cmap(0.2), label = '3 - 4')\n",
    "patch3 = mpatches.Patch(color=cmap(0.4), label = '4 - 5')\n",
    "patch4 = mpatches.Patch(color=cmap(0.6), label = '5 - 6')\n",
    "patch5 = mpatches.Patch(color=cmap(0.8), label = '6 - 7')\n",
    "patch6 = mpatches.Patch(color=cmap(1.0), label = '7 - 8')\n",
    "\n",
    "plt.legend(handles = [patch1, patch2, patch3, patch4, patch5, patch6], prop = {'size':16}, loc = 'lower left', frameon = False)\n",
    "\n",
    "plt.show()\n"
   ]
  },
  {
   "cell_type": "code",
   "execution_count": null,
   "metadata": {},
   "outputs": [],
   "source": [
    "ax.set_axis_off()\n",
    "ax.get_figure()"
   ]
  },
  {
   "cell_type": "code",
   "execution_count": null,
   "metadata": {},
   "outputs": [],
   "source": [
    "# investigate GDP per capita\n",
    "\n",
    "gdf['GDP per capita (current US$)'].describe()\n"
   ]
  },
  {
   "cell_type": "code",
   "execution_count": null,
   "metadata": {},
   "outputs": [],
   "source": [
    "# Fill GDP NaNs with zeroes\n",
    "gdf['GDP per capita (current US$)'] = gdf['GDP per capita (current US$)'].fillna(value = 0)"
   ]
  },
  {
   "cell_type": "code",
   "execution_count": null,
   "metadata": {},
   "outputs": [],
   "source": [
    "# plot map with GDP\n",
    "\n",
    "plt.rcParams['figure.figsize'] = [20, 10]\n",
    "fig, ax = plt.subplots(1, 1)\n",
    "\n",
    "gdf.plot(column='GDP per capita (current US$)', legend=True, ax = ax, cmap='summer_r', scheme='user_defined', classification_kwds = {'bins':[100, 1000, 5000, 10000, 50000, 200000]})\n",
    "\n",
    "cmap = cm.get_cmap('summer_r')\n",
    "patch1 = mpatches.Patch(color=cmap(0.0), label = 'No data')\n",
    "patch2 = mpatches.Patch(color=cmap(0.2), label = '100 - 1k')\n",
    "patch3 = mpatches.Patch(color=cmap(0.4), label = '1k - 5k')\n",
    "patch4 = mpatches.Patch(color=cmap(0.6), label = '5k - 10k')\n",
    "patch5 = mpatches.Patch(color=cmap(0.8), label = '10k - 50k')\n",
    "patch6 = mpatches.Patch(color=cmap(1.0), label = '50k - 100k')\n",
    "\n",
    "plt.legend(handles = [patch1, patch2, patch3, patch4, patch5, patch6], prop = {'size':16}, loc = 'lower left', frameon = False)\n",
    "\n",
    "plt.show()"
   ]
  },
  {
   "cell_type": "code",
   "execution_count": null,
   "metadata": {},
   "outputs": [],
   "source": [
    "ax.set_axis_off()\n",
    "ax.get_figure()"
   ]
  },
  {
   "cell_type": "code",
   "execution_count": null,
   "metadata": {},
   "outputs": [],
   "source": []
  }
 ],
 "metadata": {
  "kernelspec": {
   "display_name": "Python 3",
   "language": "python",
   "name": "python3"
  },
  "language_info": {
   "codemirror_mode": {
    "name": "ipython",
    "version": 3
   },
   "file_extension": ".py",
   "mimetype": "text/x-python",
   "name": "python",
   "nbconvert_exporter": "python",
   "pygments_lexer": "ipython3",
   "version": "3.7.3"
  }
 },
 "nbformat": 4,
 "nbformat_minor": 2
}
