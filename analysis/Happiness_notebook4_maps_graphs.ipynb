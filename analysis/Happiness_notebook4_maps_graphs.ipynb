{
 "cells": [
  {
   "cell_type": "markdown",
   "metadata": {},
   "source": [
    "# Analysis of the UN's World Happiness Index with machine learning\n",
    "\n",
    "Maaike de Jong  \n",
    "June 2020  \n",
    "  \n",
    "See the repository's [README](https://github.com/maaikedj/happiness-machine-learning/blob/master/README.md) file for background and details on the analysis and data.  \n",
    "\n",
    "### Notebook 4: Data visualization with graphs and maps\n",
    "In this notebook I visualize the relationship between the World Happiness Index with the World Bank's World Development Indicators.\n",
    "  "
   ]
  },
  {
   "cell_type": "code",
   "execution_count": null,
   "metadata": {},
   "outputs": [],
   "source": [
    "# import packages\n",
    "\n",
    "import numpy as np\n",
    "import pandas as pd\n",
    "from scipy import stats\n",
    "\n",
    "import matplotlib.pyplot as plt\n",
    "import matplotlib.cm as cm\n",
    "import matplotlib.patches as mpatches\n",
    "import seaborn as sns\n",
    "\n",
    "import geopandas as gpd\n",
    "from shapely.geometry import Point\n",
    "from shapely.geometry.polygon import Polygon\n",
    "from shapely import wkt"
   ]
  },
  {
   "cell_type": "code",
   "execution_count": null,
   "metadata": {},
   "outputs": [],
   "source": [
    "# import main data file\n",
    "\n",
    "df = pd.read_csv('dfML.csv')\n",
    "df.head()"
   ]
  },
  {
   "cell_type": "code",
   "execution_count": null,
   "metadata": {},
   "outputs": [],
   "source": [
    "# rename some of the columns (see previous notebook)\n",
    "\n",
    "df2 = df.rename(columns = {'Score mean': 'Happiness score',\n",
    "                            'CO2 emissions (metric tons per capita)': 'CO2 emission per capita',\n",
    "                            'GDP per capita (current US$)': 'GDP per capita',\n",
    "                            'Individuals using the Internet (% of population)': 'Access to electricity %',\n",
    "                            'Land area (sq. km)': 'Land area',\n",
    "                            'Life expectancy at birth, total (years)': 'Life expectancy',\n",
    "                            'PM2.5 air pollution, mean annual exposure (micrograms per cubic meter)': 'Air pollution',\n",
    "                            'People using at least basic drinking water services (% of population)': 'Drinking water services',\n",
    "                            'Population density (people per sq. km of land area)': 'Population density',\n",
    "                            'Population growth (annual %)': 'Population growth',\n",
    "                            'Primary education, duration (years)': 'Primary education years',\n",
    "                            'Proportion of seats held by women in national parliaments (%)': 'Women in parliament %',\n",
    "                            'Renewable energy consumption (% of total final energy consumption)': 'Renewable energy %',\n",
    "                            'Secondary education, duration (years)': 'Secondary education years',\n",
    "                            'Terrestrial protected areas (% of total land area)': 'Protected land %',\n",
    "                            'Urban population (% of total population)': 'Urban population',\n",
    "                            'Refugees country of origin (% of total population': 'Refugees %'})\n",
    "\n",
    "df2.head()"
   ]
  },
  {
   "cell_type": "code",
   "execution_count": null,
   "metadata": {},
   "outputs": [],
   "source": [
    "# Add columns with log versions of some variables for plotting\n",
    "\n"
   ]
  },
  {
   "cell_type": "code",
   "execution_count": null,
   "metadata": {},
   "outputs": [],
   "source": [
    "df2['CO2 emission per capita (log)'] = np.log10(df2['CO2 emission per capita'])\n",
    "df2['GDP per capita (log)'] = np.log10(df2['GDP per capita'])\n",
    "df2['Land area (log)'] = np.log10(df2['Land area'])\n",
    "df2['Air pollution (log)'] = np.log10(df2['Air pollution'])\n",
    "df2['Population density (log)'] = np.log10(df2['Population density'])\n",
    "df2['Refugees % (log)'] = np.log10(df2['Refugees %'])"
   ]
  },
  {
   "cell_type": "code",
   "execution_count": null,
   "metadata": {},
   "outputs": [],
   "source": [
    "df2.head()"
   ]
  },
  {
   "cell_type": "code",
   "execution_count": null,
   "metadata": {
    "scrolled": false
   },
   "outputs": [],
   "source": [
    "# Make few more figures to show the correlation between happiness score and top three variables\n",
    "# Top three variables are: GDP, life expectancy and refugees\n",
    "\n",
    "sns.set()\n",
    "sns.set_style('white')\n",
    "sns.set_color_codes('pastel')\n",
    "\n",
    "f, ax = plt.subplots(figsize=(12, 9))\n",
    "\n",
    "sns.regplot(x = 'Happiness score', y = 'GDP per capita (log)', color = 'royalblue', data = df2)\n",
    "\n",
    "ax.tick_params(axis='both', which='major', labelsize=20) \n",
    "ax.tick_params(axis='both', which='minor', labelsize=20)\n",
    "ax.set_xticks(range(3, 9, 1))\n",
    "#ax.set_yticks(range(0, 7, 1))\n",
    "\n",
    "# ax.legend(loc=\"lower right\", frameon=True, fontsize = 20)\n",
    "\n",
    "plt.xlabel('Happiness score', fontsize=24)\n",
    "plt.ylabel('GDP per capita (log)', fontsize=24)\n",
    "plt.suptitle('Regression between Happiness score and GDP per capita', fontsize=24)\n",
    "\n",
    "sns.despine()"
   ]
  },
  {
   "cell_type": "code",
   "execution_count": null,
   "metadata": {},
   "outputs": [],
   "source": [
    "sns.set()\n",
    "sns.set_style('white')\n",
    "sns.set_color_codes('pastel')\n",
    "\n",
    "f, ax = plt.subplots(figsize=(12, 9))\n",
    "\n",
    "sns.regplot(x = 'Happiness score', y = 'Life expectancy', color = 'mediumseagreen', data = df2)\n",
    "\n",
    "ax.tick_params(axis='both', which='major', labelsize=20) \n",
    "ax.tick_params(axis='both', which='minor', labelsize=20)\n",
    "ax.set_xticks(range(3, 9, 1))\n",
    "#ax.set_yticks(range(0, 7, 1))\n",
    "\n",
    "# ax.legend(loc=\"lower right\", frameon=True, fontsize = 20)\n",
    "\n",
    "plt.xlabel('Happiness score', fontsize=24)\n",
    "plt.ylabel('Life expectancy', fontsize=24)\n",
    "plt.suptitle('Regression between Happiness score and Life expectancy', fontsize=24)\n",
    "\n",
    "sns.despine()"
   ]
  },
  {
   "cell_type": "code",
   "execution_count": null,
   "metadata": {},
   "outputs": [],
   "source": [
    "sns.set()\n",
    "sns.set_style('white')\n",
    "sns.set_color_codes('pastel')\n",
    "\n",
    "f, ax = plt.subplots(figsize=(12, 9))\n",
    "\n",
    "sns.regplot(x = 'Happiness score', y = 'Refugees % (log)', color = 'coral', data = df2)\n",
    "\n",
    "ax.tick_params(axis='both', which='major', labelsize=20) \n",
    "ax.tick_params(axis='both', which='minor', labelsize=20)\n",
    "ax.set_xticks(range(3, 9, 1))\n",
    "#ax.set_yticks(range(0, 7, 1))\n",
    "\n",
    "# ax.legend(loc=\"lower right\", frameon=True, fontsize = 20)\n",
    "\n",
    "plt.xlabel('Happiness score', fontsize=24)\n",
    "plt.ylabel('Refugees % (log)', fontsize=24)\n",
    "plt.suptitle('Regression between Happiness score and percentage of refugees of the population', fontsize=24)\n",
    "\n",
    "sns.despine()"
   ]
  },
  {
   "cell_type": "code",
   "execution_count": null,
   "metadata": {
    "scrolled": true
   },
   "outputs": [],
   "source": [
    "# import world map geodataframe. The lowres worldmap dataset from Natural Earth can be imported directly from geopandas\n",
    "\n",
    "world = gpd.read_file(gpd.datasets.get_path('naturalearth_lowres'))\n",
    "world.rename(columns = {'name': 'Country'}, inplace = True)\n",
    "world.head()"
   ]
  },
  {
   "cell_type": "code",
   "execution_count": null,
   "metadata": {},
   "outputs": [],
   "source": []
  },
  {
   "cell_type": "code",
   "execution_count": null,
   "metadata": {},
   "outputs": [],
   "source": [
    "world.shape"
   ]
  },
  {
   "cell_type": "code",
   "execution_count": null,
   "metadata": {},
   "outputs": [],
   "source": [
    "df2.shape"
   ]
  },
  {
   "cell_type": "code",
   "execution_count": null,
   "metadata": {},
   "outputs": [],
   "source": [
    "# Will merge this with main df on country. First check whether country names are the samelist15 = hap15_s1['Country'].values.tolist()\n",
    "list1 = df2['Country'].values.tolist()\n",
    "\n",
    "list2 = world['Country'].values.tolist()"
   ]
  },
  {
   "cell_type": "code",
   "execution_count": null,
   "metadata": {},
   "outputs": [],
   "source": [
    "sorted(list(set(list1) - set(list2)))"
   ]
  },
  {
   "cell_type": "code",
   "execution_count": null,
   "metadata": {},
   "outputs": [],
   "source": [
    "sorted(list(set(list2) - set(list1)))"
   ]
  },
  {
   "cell_type": "code",
   "execution_count": null,
   "metadata": {},
   "outputs": [],
   "source": [
    "# replace names\n",
    "\n",
    "world2 = world.replace({'Country': {'Bosnia and Herz.': 'Bosnia and Herzegovina', 'Central African Rep.': 'Central African Republic', 'Congo': 'Congo (Brazzaville)', 'Dem. Rep. Congo': 'Congo (Kinshasa)', 'Czechia': 'Czech Republic', 'Dominican Rep.': 'Dominican Republic', \"Côte d'Ivoire\": 'Ivory Coast', 'Palestine': 'Palestinian Territories', 'S. Sudan': 'South Sudan', 'eSwatini': 'Swaziland', 'United States of America': 'United States'}})\n"
   ]
  },
  {
   "cell_type": "code",
   "execution_count": null,
   "metadata": {},
   "outputs": [],
   "source": [
    "# create new world df without Antarctica: \n",
    "\n",
    "world3 = world2[world2['Country'] != 'Antarctica']"
   ]
  },
  {
   "cell_type": "code",
   "execution_count": null,
   "metadata": {},
   "outputs": [],
   "source": [
    "# join this df with the main df\n",
    "\n",
    "dfgeo = pd.merge(world3, df2, on = 'Country', how = 'left')"
   ]
  },
  {
   "cell_type": "code",
   "execution_count": null,
   "metadata": {},
   "outputs": [],
   "source": [
    "gdf = gpd.GeoDataFrame(dfgeo, geometry = 'geometry')\n",
    "gdf.head()"
   ]
  },
  {
   "cell_type": "code",
   "execution_count": null,
   "metadata": {},
   "outputs": [],
   "source": [
    "type(gdf['geometry'])"
   ]
  },
  {
   "cell_type": "code",
   "execution_count": null,
   "metadata": {},
   "outputs": [],
   "source": [
    "# Create choropleth maps of happiness score and other variables per country\n",
    "\n",
    "# first check whether the country map data is complete\n",
    "plt.rcParams['figure.figsize'] = [16,8]\n",
    "gdf.plot(facecolor = 'silver', edgecolor = 'grey');"
   ]
  },
  {
   "cell_type": "code",
   "execution_count": null,
   "metadata": {},
   "outputs": [],
   "source": [
    "# Fill happiness score NaNs with zeroes\n",
    "gdf['Happiness score'] = gdf['Happiness score'].fillna(value = 0)"
   ]
  },
  {
   "cell_type": "code",
   "execution_count": null,
   "metadata": {
    "scrolled": true
   },
   "outputs": [],
   "source": [
    "# plot the map with happiness scores\n",
    "\n",
    "plt.rcParams['figure.figsize'] = [20, 10]\n",
    "fig, ax = plt.subplots(1, 1)\n",
    "\n",
    "gdf.plot(column='Happiness score', legend=True, ax = ax, cmap='summer_r', scheme='user_defined', classification_kwds = {'bins':[3, 4, 5, 6, 7, 8]})\n",
    "\n",
    "cmap = cm.get_cmap('summer_r')\n",
    "patch1 = mpatches.Patch(color=cmap(0.0), label = 'No data')\n",
    "patch2 = mpatches.Patch(color=cmap(0.2), label = '3 - 4')\n",
    "patch3 = mpatches.Patch(color=cmap(0.4), label = '4 - 5')\n",
    "patch4 = mpatches.Patch(color=cmap(0.6), label = '5 - 6')\n",
    "patch5 = mpatches.Patch(color=cmap(0.8), label = '6 - 7')\n",
    "patch6 = mpatches.Patch(color=cmap(1.0), label = '7 - 8')\n",
    "\n",
    "plt.legend(handles = [patch1, patch2, patch3, patch4, patch5, patch6], prop = {'size':16}, loc = 'lower left', frameon = False)\n",
    "\n",
    "plt.show()\n"
   ]
  },
  {
   "cell_type": "code",
   "execution_count": null,
   "metadata": {},
   "outputs": [],
   "source": [
    "ax.set_axis_off()\n",
    "ax.get_figure()"
   ]
  },
  {
   "cell_type": "code",
   "execution_count": null,
   "metadata": {},
   "outputs": [],
   "source": [
    "# investigate GDP per capita\n",
    "\n",
    "gdf['GDP per capita'].describe()\n"
   ]
  },
  {
   "cell_type": "code",
   "execution_count": null,
   "metadata": {},
   "outputs": [],
   "source": [
    "# Fill GDP NaNs with zeroes\n",
    "gdf['GDP per capita'] = gdf['GDP per capita'].fillna(value = 0)"
   ]
  },
  {
   "cell_type": "code",
   "execution_count": null,
   "metadata": {},
   "outputs": [],
   "source": [
    "# plot map with GDP\n",
    "\n",
    "plt.rcParams['figure.figsize'] = [20, 10]\n",
    "fig, ax = plt.subplots(1, 1)\n",
    "\n",
    "gdf.plot(column='GDP per capita', legend=True, ax = ax, cmap='summer_r', scheme='user_defined', classification_kwds = {'bins':[100, 1000, 5000, 10000, 50000, 200000]})\n",
    "\n",
    "cmap = cm.get_cmap('summer_r')\n",
    "patch1 = mpatches.Patch(color=cmap(0.0), label = 'No data')\n",
    "patch2 = mpatches.Patch(color=cmap(0.2), label = '100 - 1k')\n",
    "patch3 = mpatches.Patch(color=cmap(0.4), label = '1k - 5k')\n",
    "patch4 = mpatches.Patch(color=cmap(0.6), label = '5k - 10k')\n",
    "patch5 = mpatches.Patch(color=cmap(0.8), label = '10k - 50k')\n",
    "patch6 = mpatches.Patch(color=cmap(1.0), label = '50k - 100k')\n",
    "\n",
    "plt.legend(handles = [patch1, patch2, patch3, patch4, patch5, patch6], prop = {'size':16}, loc = 'lower left', frameon = False)\n",
    "\n",
    "plt.show()"
   ]
  },
  {
   "cell_type": "code",
   "execution_count": null,
   "metadata": {},
   "outputs": [],
   "source": [
    "ax.set_axis_off()\n",
    "ax.get_figure()"
   ]
  },
  {
   "cell_type": "code",
   "execution_count": null,
   "metadata": {},
   "outputs": [],
   "source": []
  }
 ],
 "metadata": {
  "kernelspec": {
   "display_name": "Python 3",
   "language": "python",
   "name": "python3"
  },
  "language_info": {
   "codemirror_mode": {
    "name": "ipython",
    "version": 3
   },
   "file_extension": ".py",
   "mimetype": "text/x-python",
   "name": "python",
   "nbconvert_exporter": "python",
   "pygments_lexer": "ipython3",
   "version": "3.7.3"
  }
 },
 "nbformat": 4,
 "nbformat_minor": 2
}
