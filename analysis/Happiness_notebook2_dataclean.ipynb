{
 "cells": [
  {
   "cell_type": "markdown",
   "metadata": {},
   "source": [
    "# Analysis of the UN's World Happiness Index with machine learning\n",
    "\n",
    "Maaike de Jong  \n",
    "June 2020  \n",
    "  \n",
    "See the repository's [README](https://github.com/maaikedj/happiness-machine-learning/blob/master/README.md) file for background and details on the analysis and data.  \n",
    "\n",
    "### Notebook 2: data exploration and cleaning\n",
    "In this notebook I explore, clean and transform the data for further analysis. \n",
    "  "
   ]
  },
  {
   "cell_type": "code",
   "execution_count": null,
   "metadata": {},
   "outputs": [],
   "source": [
    "# import packages\n",
    "\n",
    "import numpy as np\n",
    "import pandas as pd\n",
    "\n",
    "import matplotlib.pyplot as plt\n",
    "import seaborn as sns"
   ]
  },
  {
   "cell_type": "code",
   "execution_count": null,
   "metadata": {
    "scrolled": true
   },
   "outputs": [],
   "source": [
    "# import data resulting from previous notebook\n",
    "\n",
    "df = pd.read_csv('dfML.csv')\n",
    "df.head()"
   ]
  },
  {
   "cell_type": "code",
   "execution_count": null,
   "metadata": {
    "scrolled": true
   },
   "outputs": [],
   "source": [
    "# check whether the columns are the right data type\n",
    "\n",
    "df.info()\n"
   ]
  },
  {
   "cell_type": "code",
   "execution_count": null,
   "metadata": {},
   "outputs": [],
   "source": [
    "# Check for missing values\n",
    "\n",
    "df.isnull().sum()"
   ]
  },
  {
   "cell_type": "code",
   "execution_count": null,
   "metadata": {
    "scrolled": false
   },
   "outputs": [],
   "source": [
    "# check whether variables are correlated with correlation matrix\n",
    "\n",
    "corr = df.corr()\n",
    "corr"
   ]
  },
  {
   "cell_type": "code",
   "execution_count": null,
   "metadata": {},
   "outputs": [],
   "source": [
    "# visualise correlations with heatmap\n",
    "\n",
    "\n",
    "plt.figure(figsize=(15,12))\n",
    "sns.heatmap(corr)"
   ]
  },
  {
   "cell_type": "code",
   "execution_count": null,
   "metadata": {},
   "outputs": [],
   "source": [
    "# remove columns that have high correlations with other columns or are redundant:\n",
    "\n",
    "# Country\n",
    "# Region\n",
    "# Access to electricity (% of population)\n",
    "# Refugee population by country or territory of origin\n",
    "# Population, total\n",
    "\n",
    "df2 = df.drop(['Country', 'Region', 'Access to electricity (% of population)', 'Refugee population by country or territory of origin', 'Population, total'], axis=1)\n",
    "df2.head()"
   ]
  },
  {
   "cell_type": "code",
   "execution_count": null,
   "metadata": {},
   "outputs": [],
   "source": [
    "# check for rows with missing values\n",
    "\n",
    "df2[df2.isnull().any(axis=1)]"
   ]
  },
  {
   "cell_type": "code",
   "execution_count": null,
   "metadata": {},
   "outputs": [],
   "source": [
    "# drop rows with missing values\n",
    "\n",
    "df_clean = df2.dropna()"
   ]
  },
  {
   "cell_type": "code",
   "execution_count": null,
   "metadata": {
    "scrolled": false
   },
   "outputs": [],
   "source": [
    "# check missing values again\n",
    "\n",
    "df_clean.isnull().sum()"
   ]
  },
  {
   "cell_type": "code",
   "execution_count": null,
   "metadata": {},
   "outputs": [],
   "source": [
    "# save clean data frame for future use:\n",
    "\n",
    "df_clean.to_csv('dfML_clean.csv', index = False)"
   ]
  },
  {
   "cell_type": "code",
   "execution_count": null,
   "metadata": {
    "scrolled": true
   },
   "outputs": [],
   "source": [
    "# visualize distribution of variables to check whether transformations are necessary\n",
    "\n",
    "df_clean[['CO2 emissions (metric tons per capita)']].boxplot(figsize = (6, 4))"
   ]
  },
  {
   "cell_type": "code",
   "execution_count": null,
   "metadata": {},
   "outputs": [],
   "source": [
    "# improved with log transformation?\n",
    "\n",
    "np.log10(df_clean[['CO2 emissions (metric tons per capita)']]).boxplot(figsize = (6, 4))\n",
    "\n",
    "# Yes, use log transformation"
   ]
  },
  {
   "cell_type": "code",
   "execution_count": null,
   "metadata": {
    "scrolled": false
   },
   "outputs": [],
   "source": [
    "df_clean[['GDP per capita (current US$)']].boxplot(figsize = (6, 4))"
   ]
  },
  {
   "cell_type": "code",
   "execution_count": null,
   "metadata": {},
   "outputs": [],
   "source": [
    "# improved with log transformation?\n",
    "\n",
    "np.log10(df_clean[['GDP per capita (current US$)']]).boxplot(figsize = (6, 4))\n",
    "\n",
    "# Yes, use log transformation"
   ]
  },
  {
   "cell_type": "code",
   "execution_count": null,
   "metadata": {
    "scrolled": true
   },
   "outputs": [],
   "source": [
    "df_clean[['Individuals using the Internet (% of population)']].boxplot(figsize = (6, 4))"
   ]
  },
  {
   "cell_type": "code",
   "execution_count": null,
   "metadata": {
    "scrolled": true
   },
   "outputs": [],
   "source": [
    "df_clean[['Land area (sq. km)']].boxplot(figsize = (6, 4))"
   ]
  },
  {
   "cell_type": "code",
   "execution_count": null,
   "metadata": {
    "scrolled": true
   },
   "outputs": [],
   "source": [
    "# improved with log transformation?\n",
    "\n",
    "np.log10(df_clean[['Land area (sq. km)']]).boxplot(figsize = (6, 4))\n",
    "\n",
    "# Yes, use log transformation"
   ]
  },
  {
   "cell_type": "code",
   "execution_count": null,
   "metadata": {},
   "outputs": [],
   "source": [
    "df_clean[['Life expectancy at birth, total (years)']].boxplot(figsize = (6, 4))"
   ]
  },
  {
   "cell_type": "code",
   "execution_count": null,
   "metadata": {},
   "outputs": [],
   "source": [
    "df_clean[['PM2.5 air pollution, mean annual exposure (micrograms per cubic meter)']].boxplot(figsize = (6, 4))"
   ]
  },
  {
   "cell_type": "code",
   "execution_count": null,
   "metadata": {},
   "outputs": [],
   "source": [
    "# improved with log transformation?\n",
    "\n",
    "np.log10(df_clean[['PM2.5 air pollution, mean annual exposure (micrograms per cubic meter)']]).boxplot(figsize = (6, 4))\n",
    "\n",
    "# Yes, use log transformation"
   ]
  },
  {
   "cell_type": "code",
   "execution_count": null,
   "metadata": {},
   "outputs": [],
   "source": [
    "df_clean[['People using at least basic drinking water services (% of population)']].boxplot(figsize = (6, 4))"
   ]
  },
  {
   "cell_type": "code",
   "execution_count": null,
   "metadata": {},
   "outputs": [],
   "source": [
    "df_clean[['Population density (people per sq. km of land area)']].boxplot(figsize = (6, 4))"
   ]
  },
  {
   "cell_type": "code",
   "execution_count": null,
   "metadata": {},
   "outputs": [],
   "source": [
    "# improved with log transformation?\n",
    "\n",
    "np.log10(df_clean[['Population density (people per sq. km of land area)']]).boxplot(figsize = (6, 4))\n",
    "\n",
    "# Yes, use log transformation"
   ]
  },
  {
   "cell_type": "code",
   "execution_count": null,
   "metadata": {},
   "outputs": [],
   "source": [
    "df_clean[['Population growth (annual %)']].boxplot(figsize = (6, 4))"
   ]
  },
  {
   "cell_type": "code",
   "execution_count": null,
   "metadata": {},
   "outputs": [],
   "source": [
    "df_clean[['Primary education, duration (years)']].boxplot(figsize = (6, 4))"
   ]
  },
  {
   "cell_type": "code",
   "execution_count": null,
   "metadata": {},
   "outputs": [],
   "source": [
    "df_clean[['Proportion of seats held by women in national parliaments (%)']].boxplot(figsize = (6, 4))"
   ]
  },
  {
   "cell_type": "code",
   "execution_count": null,
   "metadata": {},
   "outputs": [],
   "source": [
    "df_clean[['Renewable energy consumption (% of total final energy consumption)']].boxplot(figsize = (6, 4))"
   ]
  },
  {
   "cell_type": "code",
   "execution_count": null,
   "metadata": {},
   "outputs": [],
   "source": [
    "df_clean[['Secondary education, duration (years)']].boxplot(figsize = (6, 4))"
   ]
  },
  {
   "cell_type": "code",
   "execution_count": null,
   "metadata": {},
   "outputs": [],
   "source": [
    "df_clean[['Terrestrial protected areas (% of total land area)']].boxplot(figsize = (6, 4))"
   ]
  },
  {
   "cell_type": "code",
   "execution_count": null,
   "metadata": {},
   "outputs": [],
   "source": [
    "df_clean[['Urban population (% of total population)']].boxplot(figsize = (6, 4))"
   ]
  },
  {
   "cell_type": "code",
   "execution_count": null,
   "metadata": {},
   "outputs": [],
   "source": [
    "df_clean[['Refugees country of origin (% of total population']].boxplot(figsize = (6, 4))"
   ]
  },
  {
   "cell_type": "code",
   "execution_count": null,
   "metadata": {},
   "outputs": [],
   "source": [
    "# improved with log transformation?\n",
    "\n",
    "np.log10(df_clean[['Refugees country of origin (% of total population']]).boxplot(figsize = (6, 4))\n",
    "\n",
    "# Yes, use log transformation"
   ]
  },
  {
   "cell_type": "code",
   "execution_count": null,
   "metadata": {},
   "outputs": [],
   "source": [
    "# make copy of df_clean\n",
    "df_clean_tr = df_clean.copy()"
   ]
  },
  {
   "cell_type": "code",
   "execution_count": null,
   "metadata": {},
   "outputs": [],
   "source": [
    "# perform log transformation on selected variables:\n",
    "\n",
    "log_columns = ['CO2 emissions (metric tons per capita)', 'GDP per capita (current US$)', 'Land area (sq. km)', 'PM2.5 air pollution, mean annual exposure (micrograms per cubic meter)', 'Population density (people per sq. km of land area)', 'Refugees country of origin (% of total population']\n",
    "\n",
    "for col in log_columns:\n",
    "    df_clean_tr[col] = np.log10(df_clean_tr[col])"
   ]
  },
  {
   "cell_type": "code",
   "execution_count": null,
   "metadata": {},
   "outputs": [],
   "source": [
    "# rename log transformed columnn\n",
    "\n",
    "for col in log_columns:\n",
    "    df_clean_tr.rename(columns = {col: col + ' log'}, inplace = True)"
   ]
  },
  {
   "cell_type": "code",
   "execution_count": null,
   "metadata": {
    "scrolled": true
   },
   "outputs": [],
   "source": [
    "df_clean_tr.head()"
   ]
  },
  {
   "cell_type": "code",
   "execution_count": null,
   "metadata": {},
   "outputs": [],
   "source": [
    "# save clean data with transformed variables for future use:\n",
    "\n",
    "df_clean_tr.to_csv('dfML_clean_tr.csv', index = False)"
   ]
  },
  {
   "cell_type": "code",
   "execution_count": null,
   "metadata": {},
   "outputs": [],
   "source": []
  },
  {
   "cell_type": "code",
   "execution_count": null,
   "metadata": {},
   "outputs": [],
   "source": []
  },
  {
   "cell_type": "code",
   "execution_count": null,
   "metadata": {},
   "outputs": [],
   "source": []
  }
 ],
 "metadata": {
  "kernelspec": {
   "display_name": "Python 3",
   "language": "python",
   "name": "python3"
  },
  "language_info": {
   "codemirror_mode": {
    "name": "ipython",
    "version": 3
   },
   "file_extension": ".py",
   "mimetype": "text/x-python",
   "name": "python",
   "nbconvert_exporter": "python",
   "pygments_lexer": "ipython3",
   "version": "3.7.3"
  }
 },
 "nbformat": 4,
 "nbformat_minor": 2
}
