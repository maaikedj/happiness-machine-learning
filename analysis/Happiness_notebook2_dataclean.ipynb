{
 "cells": [
  {
   "cell_type": "markdown",
   "metadata": {},
   "source": [
    "# Analysis of the UN's World Happiness Index with machine learning\n",
    "\n",
    "Maaike de Jong  \n",
    "June 2020  \n",
    "  \n",
    "See the repository's [README](https://github.com/maaikedj/happiness-machine-learning/blob/master/README.md) file for background and details on the analysis and data.  \n",
    "\n",
    "### Notebook 2: data exploration and cleaning\n",
    "In this notebook I explore, clean and transform the data for further analysis. \n",
    "  "
   ]
  },
  {
   "cell_type": "code",
   "execution_count": 1,
   "metadata": {},
   "outputs": [],
   "source": [
    "# import packages\n",
    "\n",
    "import numpy as np\n",
    "import pandas as pd\n",
    "\n",
    "import matplotlib.pyplot as plt\n",
    "import seaborn as sns"
   ]
  },
  {
   "cell_type": "code",
   "execution_count": 50,
   "metadata": {
    "scrolled": true
   },
   "outputs": [
    {
     "data": {
      "text/html": [
       "<div>\n",
       "<style scoped>\n",
       "    .dataframe tbody tr th:only-of-type {\n",
       "        vertical-align: middle;\n",
       "    }\n",
       "\n",
       "    .dataframe tbody tr th {\n",
       "        vertical-align: top;\n",
       "    }\n",
       "\n",
       "    .dataframe thead th {\n",
       "        text-align: right;\n",
       "    }\n",
       "</style>\n",
       "<table border=\"1\" class=\"dataframe\">\n",
       "  <thead>\n",
       "    <tr style=\"text-align: right;\">\n",
       "      <th></th>\n",
       "      <th>Country</th>\n",
       "      <th>Region</th>\n",
       "      <th>Score mean</th>\n",
       "      <th>Access to electricity (% of population)</th>\n",
       "      <th>CO2 emissions (metric tons per capita)</th>\n",
       "      <th>Compulsory education, duration (years)</th>\n",
       "      <th>GDP growth (annual %)</th>\n",
       "      <th>GDP per capita (current US$)</th>\n",
       "      <th>Individuals using the Internet (% of population)</th>\n",
       "      <th>Land area (sq. km)</th>\n",
       "      <th>...</th>\n",
       "      <th>Population density (people per sq. km of land area)</th>\n",
       "      <th>Population growth (annual %)</th>\n",
       "      <th>Proportion of seats held by women in national parliaments (%)</th>\n",
       "      <th>Refugee population by country or territory of origin</th>\n",
       "      <th>Population, total</th>\n",
       "      <th>Renewable energy consumption (% of total final energy consumption)</th>\n",
       "      <th>School enrollment, primary (gross), gender parity index (GPI)</th>\n",
       "      <th>Terrestrial protected areas (% of total land area)</th>\n",
       "      <th>Urban population (% of total population)</th>\n",
       "      <th>Refugees country of origin (% of total population</th>\n",
       "    </tr>\n",
       "  </thead>\n",
       "  <tbody>\n",
       "    <tr>\n",
       "      <th>0</th>\n",
       "      <td>Switzerland</td>\n",
       "      <td>Western Europe</td>\n",
       "      <td>7.5114</td>\n",
       "      <td>100.0</td>\n",
       "      <td>4.732688</td>\n",
       "      <td>11.000000</td>\n",
       "      <td>1.956542</td>\n",
       "      <td>82645.581204</td>\n",
       "      <td>86.791615</td>\n",
       "      <td>3.951600e+04</td>\n",
       "      <td>...</td>\n",
       "      <td>207.041205</td>\n",
       "      <td>1.052495</td>\n",
       "      <td>30.800</td>\n",
       "      <td>15.000000</td>\n",
       "      <td>8.181440e+06</td>\n",
       "      <td>22.946425</td>\n",
       "      <td>0.996315</td>\n",
       "      <td>9.660123</td>\n",
       "      <td>73.697333</td>\n",
       "      <td>0.000002</td>\n",
       "    </tr>\n",
       "    <tr>\n",
       "      <th>1</th>\n",
       "      <td>Iceland</td>\n",
       "      <td>Western Europe</td>\n",
       "      <td>7.5110</td>\n",
       "      <td>100.0</td>\n",
       "      <td>5.921191</td>\n",
       "      <td>10.000000</td>\n",
       "      <td>2.998990</td>\n",
       "      <td>55453.949873</td>\n",
       "      <td>96.981917</td>\n",
       "      <td>1.002500e+05</td>\n",
       "      <td>...</td>\n",
       "      <td>3.293207</td>\n",
       "      <td>1.133978</td>\n",
       "      <td>41.440</td>\n",
       "      <td>2.833333</td>\n",
       "      <td>3.301440e+05</td>\n",
       "      <td>76.467214</td>\n",
       "      <td>0.999472</td>\n",
       "      <td>17.914355</td>\n",
       "      <td>93.675778</td>\n",
       "      <td>0.000009</td>\n",
       "    </tr>\n",
       "    <tr>\n",
       "      <th>2</th>\n",
       "      <td>Denmark</td>\n",
       "      <td>Western Europe</td>\n",
       "      <td>7.5460</td>\n",
       "      <td>100.0</td>\n",
       "      <td>7.003336</td>\n",
       "      <td>9.888889</td>\n",
       "      <td>1.778116</td>\n",
       "      <td>58721.482142</td>\n",
       "      <td>94.347397</td>\n",
       "      <td>4.208778e+04</td>\n",
       "      <td>...</td>\n",
       "      <td>134.484524</td>\n",
       "      <td>0.531352</td>\n",
       "      <td>38.311</td>\n",
       "      <td>7.750000</td>\n",
       "      <td>5.659816e+06</td>\n",
       "      <td>27.220085</td>\n",
       "      <td>0.991766</td>\n",
       "      <td>17.921347</td>\n",
       "      <td>87.377222</td>\n",
       "      <td>0.000001</td>\n",
       "    </tr>\n",
       "    <tr>\n",
       "      <th>3</th>\n",
       "      <td>Norway</td>\n",
       "      <td>Western Europe</td>\n",
       "      <td>7.5410</td>\n",
       "      <td>100.0</td>\n",
       "      <td>10.416053</td>\n",
       "      <td>10.000000</td>\n",
       "      <td>1.560165</td>\n",
       "      <td>87977.602660</td>\n",
       "      <td>95.537903</td>\n",
       "      <td>3.651633e+05</td>\n",
       "      <td>...</td>\n",
       "      <td>14.024149</td>\n",
       "      <td>1.059666</td>\n",
       "      <td>39.903</td>\n",
       "      <td>10.000000</td>\n",
       "      <td>5.121086e+06</td>\n",
       "      <td>57.320681</td>\n",
       "      <td>1.000233</td>\n",
       "      <td>17.060995</td>\n",
       "      <td>80.678222</td>\n",
       "      <td>0.000002</td>\n",
       "    </tr>\n",
       "    <tr>\n",
       "      <th>4</th>\n",
       "      <td>Canada</td>\n",
       "      <td>North America</td>\n",
       "      <td>7.3506</td>\n",
       "      <td>100.0</td>\n",
       "      <td>15.234180</td>\n",
       "      <td>10.000000</td>\n",
       "      <td>2.207759</td>\n",
       "      <td>48056.677329</td>\n",
       "      <td>86.422500</td>\n",
       "      <td>9.093510e+06</td>\n",
       "      <td>...</td>\n",
       "      <td>3.897680</td>\n",
       "      <td>1.078803</td>\n",
       "      <td>25.365</td>\n",
       "      <td>93.222222</td>\n",
       "      <td>3.544359e+07</td>\n",
       "      <td>22.181059</td>\n",
       "      <td>1.006599</td>\n",
       "      <td>9.687049</td>\n",
       "      <td>81.209556</td>\n",
       "      <td>0.000003</td>\n",
       "    </tr>\n",
       "  </tbody>\n",
       "</table>\n",
       "<p>5 rows × 23 columns</p>\n",
       "</div>"
      ],
      "text/plain": [
       "       Country          Region  Score mean  \\\n",
       "0  Switzerland  Western Europe      7.5114   \n",
       "1      Iceland  Western Europe      7.5110   \n",
       "2      Denmark  Western Europe      7.5460   \n",
       "3       Norway  Western Europe      7.5410   \n",
       "4       Canada   North America      7.3506   \n",
       "\n",
       "   Access to electricity (% of population)  \\\n",
       "0                                    100.0   \n",
       "1                                    100.0   \n",
       "2                                    100.0   \n",
       "3                                    100.0   \n",
       "4                                    100.0   \n",
       "\n",
       "   CO2 emissions (metric tons per capita)  \\\n",
       "0                                4.732688   \n",
       "1                                5.921191   \n",
       "2                                7.003336   \n",
       "3                               10.416053   \n",
       "4                               15.234180   \n",
       "\n",
       "   Compulsory education, duration (years)  GDP growth (annual %)  \\\n",
       "0                               11.000000               1.956542   \n",
       "1                               10.000000               2.998990   \n",
       "2                                9.888889               1.778116   \n",
       "3                               10.000000               1.560165   \n",
       "4                               10.000000               2.207759   \n",
       "\n",
       "   GDP per capita (current US$)  \\\n",
       "0                  82645.581204   \n",
       "1                  55453.949873   \n",
       "2                  58721.482142   \n",
       "3                  87977.602660   \n",
       "4                  48056.677329   \n",
       "\n",
       "   Individuals using the Internet (% of population)  Land area (sq. km)  ...  \\\n",
       "0                                         86.791615        3.951600e+04  ...   \n",
       "1                                         96.981917        1.002500e+05  ...   \n",
       "2                                         94.347397        4.208778e+04  ...   \n",
       "3                                         95.537903        3.651633e+05  ...   \n",
       "4                                         86.422500        9.093510e+06  ...   \n",
       "\n",
       "   Population density (people per sq. km of land area)  \\\n",
       "0                                         207.041205     \n",
       "1                                           3.293207     \n",
       "2                                         134.484524     \n",
       "3                                          14.024149     \n",
       "4                                           3.897680     \n",
       "\n",
       "   Population growth (annual %)  \\\n",
       "0                      1.052495   \n",
       "1                      1.133978   \n",
       "2                      0.531352   \n",
       "3                      1.059666   \n",
       "4                      1.078803   \n",
       "\n",
       "   Proportion of seats held by women in national parliaments (%)  \\\n",
       "0                                             30.800               \n",
       "1                                             41.440               \n",
       "2                                             38.311               \n",
       "3                                             39.903               \n",
       "4                                             25.365               \n",
       "\n",
       "   Refugee population by country or territory of origin  Population, total  \\\n",
       "0                                          15.000000          8.181440e+06   \n",
       "1                                           2.833333          3.301440e+05   \n",
       "2                                           7.750000          5.659816e+06   \n",
       "3                                          10.000000          5.121086e+06   \n",
       "4                                          93.222222          3.544359e+07   \n",
       "\n",
       "   Renewable energy consumption (% of total final energy consumption)  \\\n",
       "0                                          22.946425                    \n",
       "1                                          76.467214                    \n",
       "2                                          27.220085                    \n",
       "3                                          57.320681                    \n",
       "4                                          22.181059                    \n",
       "\n",
       "   School enrollment, primary (gross), gender parity index (GPI)  \\\n",
       "0                                           0.996315               \n",
       "1                                           0.999472               \n",
       "2                                           0.991766               \n",
       "3                                           1.000233               \n",
       "4                                           1.006599               \n",
       "\n",
       "   Terrestrial protected areas (% of total land area)  \\\n",
       "0                                           9.660123    \n",
       "1                                          17.914355    \n",
       "2                                          17.921347    \n",
       "3                                          17.060995    \n",
       "4                                           9.687049    \n",
       "\n",
       "   Urban population (% of total population)  \\\n",
       "0                                 73.697333   \n",
       "1                                 93.675778   \n",
       "2                                 87.377222   \n",
       "3                                 80.678222   \n",
       "4                                 81.209556   \n",
       "\n",
       "   Refugees country of origin (% of total population  \n",
       "0                                           0.000002  \n",
       "1                                           0.000009  \n",
       "2                                           0.000001  \n",
       "3                                           0.000002  \n",
       "4                                           0.000003  \n",
       "\n",
       "[5 rows x 23 columns]"
      ]
     },
     "execution_count": 50,
     "metadata": {},
     "output_type": "execute_result"
    }
   ],
   "source": [
    "# import data resulting from previous notebook\n",
    "\n",
    "df = pd.read_csv('dfML.csv')\n",
    "df.head()"
   ]
  },
  {
   "cell_type": "code",
   "execution_count": 51,
   "metadata": {
    "scrolled": true
   },
   "outputs": [
    {
     "name": "stdout",
     "output_type": "stream",
     "text": [
      "<class 'pandas.core.frame.DataFrame'>\n",
      "RangeIndex: 161 entries, 0 to 160\n",
      "Data columns (total 23 columns):\n",
      "Country                                                                   161 non-null object\n",
      "Region                                                                    161 non-null object\n",
      "Score mean                                                                161 non-null float64\n",
      "Access to electricity (% of population)                                   161 non-null float64\n",
      "CO2 emissions (metric tons per capita)                                    159 non-null float64\n",
      "Compulsory education, duration (years)                                    153 non-null float64\n",
      "GDP growth (annual %)                                                     159 non-null float64\n",
      "GDP per capita (current US$)                                              160 non-null float64\n",
      "Individuals using the Internet (% of population)                          161 non-null float64\n",
      "Land area (sq. km)                                                        159 non-null float64\n",
      "Life expectancy at birth, total (years)                                   161 non-null float64\n",
      "PM2.5 air pollution, mean annual exposure (micrograms per cubic meter)    159 non-null float64\n",
      "People using at least basic drinking water services (% of population)     160 non-null float64\n",
      "Population density (people per sq. km of land area)                       159 non-null float64\n",
      "Population growth (annual %)                                              160 non-null float64\n",
      "Proportion of seats held by women in national parliaments (%)             157 non-null float64\n",
      "Refugee population by country or territory of origin                      159 non-null float64\n",
      "Population, total                                                         161 non-null float64\n",
      "Renewable energy consumption (% of total final energy consumption)        161 non-null float64\n",
      "School enrollment, primary (gross), gender parity index (GPI)             153 non-null float64\n",
      "Terrestrial protected areas (% of total land area)                        160 non-null float64\n",
      "Urban population (% of total population)                                  160 non-null float64\n",
      "Refugees country of origin (% of total population                         159 non-null float64\n",
      "dtypes: float64(21), object(2)\n",
      "memory usage: 29.0+ KB\n"
     ]
    }
   ],
   "source": [
    "# check whether the columns are the right data type\n",
    "\n",
    "df.info()"
   ]
  },
  {
   "cell_type": "code",
   "execution_count": 52,
   "metadata": {},
   "outputs": [
    {
     "data": {
      "text/plain": [
       "Country                                                                   0\n",
       "Region                                                                    0\n",
       "Score mean                                                                0\n",
       "Access to electricity (% of population)                                   0\n",
       "CO2 emissions (metric tons per capita)                                    2\n",
       "Compulsory education, duration (years)                                    8\n",
       "GDP growth (annual %)                                                     2\n",
       "GDP per capita (current US$)                                              1\n",
       "Individuals using the Internet (% of population)                          0\n",
       "Land area (sq. km)                                                        2\n",
       "Life expectancy at birth, total (years)                                   0\n",
       "PM2.5 air pollution, mean annual exposure (micrograms per cubic meter)    2\n",
       "People using at least basic drinking water services (% of population)     1\n",
       "Population density (people per sq. km of land area)                       2\n",
       "Population growth (annual %)                                              1\n",
       "Proportion of seats held by women in national parliaments (%)             4\n",
       "Refugee population by country or territory of origin                      2\n",
       "Population, total                                                         0\n",
       "Renewable energy consumption (% of total final energy consumption)        0\n",
       "School enrollment, primary (gross), gender parity index (GPI)             8\n",
       "Terrestrial protected areas (% of total land area)                        1\n",
       "Urban population (% of total population)                                  1\n",
       "Refugees country of origin (% of total population                         2\n",
       "dtype: int64"
      ]
     },
     "execution_count": 52,
     "metadata": {},
     "output_type": "execute_result"
    }
   ],
   "source": [
    "# Check for missing values\n",
    "\n",
    "df.isnull().sum()"
   ]
  },
  {
   "cell_type": "code",
   "execution_count": 58,
   "metadata": {
    "scrolled": false
   },
   "outputs": [
    {
     "data": {
      "text/plain": [
       "<matplotlib.axes._subplots.AxesSubplot at 0x1a1e0337b8>"
      ]
     },
     "execution_count": 58,
     "metadata": {},
     "output_type": "execute_result"
    },
    {
     "data": {
      "image/png": "[encoded data removed]",
      "text/plain": [
       "<Figure size 1080x864 with 2 Axes>"
      ]
     },
     "metadata": {
      "needs_background": "light"
     },
     "output_type": "display_data"
    }
   ],
   "source": [
    "# check whether variables are correlated with heatmap\n",
    "\n",
    "corr = df.corr()\n",
    "\n",
    "plt.figure(figsize=(15,12))\n",
    "sns.heatmap(corr)"
   ]
  },
  {
   "cell_type": "code",
   "execution_count": 59,
   "metadata": {},
   "outputs": [
    {
     "data": {
      "text/html": [
       "<div>\n",
       "<style scoped>\n",
       "    .dataframe tbody tr th:only-of-type {\n",
       "        vertical-align: middle;\n",
       "    }\n",
       "\n",
       "    .dataframe tbody tr th {\n",
       "        vertical-align: top;\n",
       "    }\n",
       "\n",
       "    .dataframe thead th {\n",
       "        text-align: right;\n",
       "    }\n",
       "</style>\n",
       "<table border=\"1\" class=\"dataframe\">\n",
       "  <thead>\n",
       "    <tr style=\"text-align: right;\">\n",
       "      <th></th>\n",
       "      <th>Score mean</th>\n",
       "      <th>CO2 emissions (metric tons per capita)</th>\n",
       "      <th>Compulsory education, duration (years)</th>\n",
       "      <th>GDP growth (annual %)</th>\n",
       "      <th>GDP per capita (current US$)</th>\n",
       "      <th>Individuals using the Internet (% of population)</th>\n",
       "      <th>Land area (sq. km)</th>\n",
       "      <th>Life expectancy at birth, total (years)</th>\n",
       "      <th>PM2.5 air pollution, mean annual exposure (micrograms per cubic meter)</th>\n",
       "      <th>People using at least basic drinking water services (% of population)</th>\n",
       "      <th>Population density (people per sq. km of land area)</th>\n",
       "      <th>Population growth (annual %)</th>\n",
       "      <th>Proportion of seats held by women in national parliaments (%)</th>\n",
       "      <th>Renewable energy consumption (% of total final energy consumption)</th>\n",
       "      <th>School enrollment, primary (gross), gender parity index (GPI)</th>\n",
       "      <th>Terrestrial protected areas (% of total land area)</th>\n",
       "      <th>Urban population (% of total population)</th>\n",
       "      <th>Refugees country of origin (% of total population</th>\n",
       "    </tr>\n",
       "  </thead>\n",
       "  <tbody>\n",
       "    <tr>\n",
       "      <th>0</th>\n",
       "      <td>7.5114</td>\n",
       "      <td>4.732688</td>\n",
       "      <td>11.000000</td>\n",
       "      <td>1.956542</td>\n",
       "      <td>82645.581204</td>\n",
       "      <td>86.791615</td>\n",
       "      <td>3.951600e+04</td>\n",
       "      <td>83.026287</td>\n",
       "      <td>11.656622</td>\n",
       "      <td>100.000000</td>\n",
       "      <td>207.041205</td>\n",
       "      <td>1.052495</td>\n",
       "      <td>30.800</td>\n",
       "      <td>22.946425</td>\n",
       "      <td>0.996315</td>\n",
       "      <td>9.660123</td>\n",
       "      <td>73.697333</td>\n",
       "      <td>0.000002</td>\n",
       "    </tr>\n",
       "    <tr>\n",
       "      <th>1</th>\n",
       "      <td>7.5110</td>\n",
       "      <td>5.921191</td>\n",
       "      <td>10.000000</td>\n",
       "      <td>2.998990</td>\n",
       "      <td>55453.949873</td>\n",
       "      <td>96.981917</td>\n",
       "      <td>1.002500e+05</td>\n",
       "      <td>82.454472</td>\n",
       "      <td>7.178653</td>\n",
       "      <td>99.999999</td>\n",
       "      <td>3.293207</td>\n",
       "      <td>1.133978</td>\n",
       "      <td>41.440</td>\n",
       "      <td>76.467214</td>\n",
       "      <td>0.999472</td>\n",
       "      <td>17.914355</td>\n",
       "      <td>93.675778</td>\n",
       "      <td>0.000009</td>\n",
       "    </tr>\n",
       "    <tr>\n",
       "      <th>2</th>\n",
       "      <td>7.5460</td>\n",
       "      <td>7.003336</td>\n",
       "      <td>9.888889</td>\n",
       "      <td>1.778116</td>\n",
       "      <td>58721.482142</td>\n",
       "      <td>94.347397</td>\n",
       "      <td>4.208778e+04</td>\n",
       "      <td>80.440108</td>\n",
       "      <td>11.047112</td>\n",
       "      <td>99.999999</td>\n",
       "      <td>134.484524</td>\n",
       "      <td>0.531352</td>\n",
       "      <td>38.311</td>\n",
       "      <td>27.220085</td>\n",
       "      <td>0.991766</td>\n",
       "      <td>17.921347</td>\n",
       "      <td>87.377222</td>\n",
       "      <td>0.000001</td>\n",
       "    </tr>\n",
       "    <tr>\n",
       "      <th>3</th>\n",
       "      <td>7.5410</td>\n",
       "      <td>10.416053</td>\n",
       "      <td>10.000000</td>\n",
       "      <td>1.560165</td>\n",
       "      <td>87977.602660</td>\n",
       "      <td>95.537903</td>\n",
       "      <td>3.651633e+05</td>\n",
       "      <td>81.969919</td>\n",
       "      <td>7.697953</td>\n",
       "      <td>100.000000</td>\n",
       "      <td>14.024149</td>\n",
       "      <td>1.059666</td>\n",
       "      <td>39.903</td>\n",
       "      <td>57.320681</td>\n",
       "      <td>1.000233</td>\n",
       "      <td>17.060995</td>\n",
       "      <td>80.678222</td>\n",
       "      <td>0.000002</td>\n",
       "    </tr>\n",
       "    <tr>\n",
       "      <th>4</th>\n",
       "      <td>7.3506</td>\n",
       "      <td>15.234180</td>\n",
       "      <td>10.000000</td>\n",
       "      <td>2.207759</td>\n",
       "      <td>48056.677329</td>\n",
       "      <td>86.422500</td>\n",
       "      <td>9.093510e+06</td>\n",
       "      <td>81.732249</td>\n",
       "      <td>7.558178</td>\n",
       "      <td>99.353377</td>\n",
       "      <td>3.897680</td>\n",
       "      <td>1.078803</td>\n",
       "      <td>25.365</td>\n",
       "      <td>22.181059</td>\n",
       "      <td>1.006599</td>\n",
       "      <td>9.687049</td>\n",
       "      <td>81.209556</td>\n",
       "      <td>0.000003</td>\n",
       "    </tr>\n",
       "  </tbody>\n",
       "</table>\n",
       "</div>"
      ],
      "text/plain": [
       "   Score mean  CO2 emissions (metric tons per capita)  \\\n",
       "0      7.5114                                4.732688   \n",
       "1      7.5110                                5.921191   \n",
       "2      7.5460                                7.003336   \n",
       "3      7.5410                               10.416053   \n",
       "4      7.3506                               15.234180   \n",
       "\n",
       "   Compulsory education, duration (years)  GDP growth (annual %)  \\\n",
       "0                               11.000000               1.956542   \n",
       "1                               10.000000               2.998990   \n",
       "2                                9.888889               1.778116   \n",
       "3                               10.000000               1.560165   \n",
       "4                               10.000000               2.207759   \n",
       "\n",
       "   GDP per capita (current US$)  \\\n",
       "0                  82645.581204   \n",
       "1                  55453.949873   \n",
       "2                  58721.482142   \n",
       "3                  87977.602660   \n",
       "4                  48056.677329   \n",
       "\n",
       "   Individuals using the Internet (% of population)  Land area (sq. km)  \\\n",
       "0                                         86.791615        3.951600e+04   \n",
       "1                                         96.981917        1.002500e+05   \n",
       "2                                         94.347397        4.208778e+04   \n",
       "3                                         95.537903        3.651633e+05   \n",
       "4                                         86.422500        9.093510e+06   \n",
       "\n",
       "   Life expectancy at birth, total (years)  \\\n",
       "0                                83.026287   \n",
       "1                                82.454472   \n",
       "2                                80.440108   \n",
       "3                                81.969919   \n",
       "4                                81.732249   \n",
       "\n",
       "   PM2.5 air pollution, mean annual exposure (micrograms per cubic meter)  \\\n",
       "0                                          11.656622                        \n",
       "1                                           7.178653                        \n",
       "2                                          11.047112                        \n",
       "3                                           7.697953                        \n",
       "4                                           7.558178                        \n",
       "\n",
       "   People using at least basic drinking water services (% of population)  \\\n",
       "0                                         100.000000                       \n",
       "1                                          99.999999                       \n",
       "2                                          99.999999                       \n",
       "3                                         100.000000                       \n",
       "4                                          99.353377                       \n",
       "\n",
       "   Population density (people per sq. km of land area)  \\\n",
       "0                                         207.041205     \n",
       "1                                           3.293207     \n",
       "2                                         134.484524     \n",
       "3                                          14.024149     \n",
       "4                                           3.897680     \n",
       "\n",
       "   Population growth (annual %)  \\\n",
       "0                      1.052495   \n",
       "1                      1.133978   \n",
       "2                      0.531352   \n",
       "3                      1.059666   \n",
       "4                      1.078803   \n",
       "\n",
       "   Proportion of seats held by women in national parliaments (%)  \\\n",
       "0                                             30.800               \n",
       "1                                             41.440               \n",
       "2                                             38.311               \n",
       "3                                             39.903               \n",
       "4                                             25.365               \n",
       "\n",
       "   Renewable energy consumption (% of total final energy consumption)  \\\n",
       "0                                          22.946425                    \n",
       "1                                          76.467214                    \n",
       "2                                          27.220085                    \n",
       "3                                          57.320681                    \n",
       "4                                          22.181059                    \n",
       "\n",
       "   School enrollment, primary (gross), gender parity index (GPI)  \\\n",
       "0                                           0.996315               \n",
       "1                                           0.999472               \n",
       "2                                           0.991766               \n",
       "3                                           1.000233               \n",
       "4                                           1.006599               \n",
       "\n",
       "   Terrestrial protected areas (% of total land area)  \\\n",
       "0                                           9.660123    \n",
       "1                                          17.914355    \n",
       "2                                          17.921347    \n",
       "3                                          17.060995    \n",
       "4                                           9.687049    \n",
       "\n",
       "   Urban population (% of total population)  \\\n",
       "0                                 73.697333   \n",
       "1                                 93.675778   \n",
       "2                                 87.377222   \n",
       "3                                 80.678222   \n",
       "4                                 81.209556   \n",
       "\n",
       "   Refugees country of origin (% of total population  \n",
       "0                                           0.000002  \n",
       "1                                           0.000009  \n",
       "2                                           0.000001  \n",
       "3                                           0.000002  \n",
       "4                                           0.000003  "
      ]
     },
     "execution_count": 59,
     "metadata": {},
     "output_type": "execute_result"
    }
   ],
   "source": [
    "# remove columns that have high correlations with other columns or are redundant:\n",
    "\n",
    "# Country\n",
    "# Region\n",
    "# Access to electricity (% of population)\n",
    "# Refugee population by country or territory of origin\n",
    "# Population, total\n",
    "\n",
    "df2 = df.drop(['Country', 'Region', 'Access to electricity (% of population)', 'Refugee population by country or territory of origin', 'Population, total'], axis=1)\n",
    "df2.head()"
   ]
  },
  {
   "cell_type": "code",
   "execution_count": 60,
   "metadata": {},
   "outputs": [],
   "source": [
    "# drop rows with missing values\n",
    "\n",
    "df3 = df2.dropna()"
   ]
  },
  {
   "cell_type": "code",
   "execution_count": 61,
   "metadata": {
    "scrolled": false
   },
   "outputs": [
    {
     "data": {
      "text/plain": [
       "Score mean                                                                0\n",
       "CO2 emissions (metric tons per capita)                                    0\n",
       "Compulsory education, duration (years)                                    0\n",
       "GDP growth (annual %)                                                     0\n",
       "GDP per capita (current US$)                                              0\n",
       "Individuals using the Internet (% of population)                          0\n",
       "Land area (sq. km)                                                        0\n",
       "Life expectancy at birth, total (years)                                   0\n",
       "PM2.5 air pollution, mean annual exposure (micrograms per cubic meter)    0\n",
       "People using at least basic drinking water services (% of population)     0\n",
       "Population density (people per sq. km of land area)                       0\n",
       "Population growth (annual %)                                              0\n",
       "Proportion of seats held by women in national parliaments (%)             0\n",
       "Renewable energy consumption (% of total final energy consumption)        0\n",
       "School enrollment, primary (gross), gender parity index (GPI)             0\n",
       "Terrestrial protected areas (% of total land area)                        0\n",
       "Urban population (% of total population)                                  0\n",
       "Refugees country of origin (% of total population                         0\n",
       "dtype: int64"
      ]
     },
     "execution_count": 61,
     "metadata": {},
     "output_type": "execute_result"
    }
   ],
   "source": [
    "# check missing values again\n",
    "\n",
    "df3.isnull().sum()"
   ]
  },
  {
   "cell_type": "code",
   "execution_count": 62,
   "metadata": {},
   "outputs": [],
   "source": [
    "# rename remaining columns for easier use and plotting\n",
    "\n",
    "df_clean = df3.rename(columns = {'Score mean': 'Happiness score',\n",
    "                            'CO2 emissions (metric tons per capita)': 'CO2 emission per capita',\n",
    "                            'Compulsory education, duration (years)': 'Compulsory education (years)',\n",
    "                            'GDP per capita (current US$)': 'GDP per capita',\n",
    "                            'Individuals using the Internet (% of population)': 'Internet use (% of population)',\n",
    "                            'Land area (sq. km)': 'Land area',\n",
    "                            'Life expectancy at birth, total (years)': 'Life expectancy',\n",
    "                            'PM2.5 air pollution, mean annual exposure (micrograms per cubic meter)': 'Air pollution',\n",
    "                            'People using at least basic drinking water services (% of population)': 'Drinking water services',\n",
    "                            'Population density (people per sq. km of land area)': 'Population density',\n",
    "                            'Population growth (annual %)': 'Population growth',\n",
    "                            'Proportion of seats held by women in national parliaments (%)': 'Women in parliament %',\n",
    "                            'Renewable energy consumption (% of total final energy consumption)': 'Renewable energy %',\n",
    "                            'School enrollment, primary (gross), gender parity index (GPI)': 'Gender parity index (GPI)',\n",
    "                            'Terrestrial protected areas (% of total land area)': 'Protected land %',\n",
    "                            'Urban population (% of total population)': 'Urban population',\n",
    "                            'Refugees country of origin (% of total population': 'Refugees %'})"
   ]
  },
  {
   "cell_type": "code",
   "execution_count": 64,
   "metadata": {},
   "outputs": [
    {
     "data": {
      "text/plain": [
       "['Happiness score',\n",
       " 'CO2 emission per capita',\n",
       " 'Compulsory education (years)',\n",
       " 'GDP growth (annual %)',\n",
       " 'GDP per capita',\n",
       " 'Internet use (% of population)',\n",
       " 'Land area',\n",
       " 'Life expectancy',\n",
       " 'Air pollution',\n",
       " 'Drinking water services',\n",
       " 'Population density',\n",
       " 'Population growth',\n",
       " 'Women in parliament %',\n",
       " 'Renewable energy %',\n",
       " 'Gender parity index (GPI)',\n",
       " 'Protected land %',\n",
       " 'Urban population',\n",
       " 'Refugees %']"
      ]
     },
     "execution_count": 64,
     "metadata": {},
     "output_type": "execute_result"
    }
   ],
   "source": [
    "list(df_clean.columns)"
   ]
  },
  {
   "cell_type": "code",
   "execution_count": 67,
   "metadata": {},
   "outputs": [],
   "source": [
    "# save clean data frame for future use:\n",
    "\n",
    "df_clean.to_csv('dfML_clean.csv', index = False)"
   ]
  },
  {
   "cell_type": "markdown",
   "metadata": {},
   "source": [
    "### Visual data exploration\n",
    "\n",
    "Visualise distribution of variables with histogram and boxplot, and their relation with Happiness score with scatterplot"
   ]
  },
  {
   "cell_type": "code",
   "execution_count": 68,
   "metadata": {},
   "outputs": [],
   "source": [
    "# define function for figures\n",
    "\n",
    "def figure(col_name):\n",
    "    \n",
    "    x = df_clean['Happiness score']\n",
    "\n",
    "    fig, [ax1, ax2, ax3] = plt.subplots(1,3, figsize=(15,4))\n",
    "\n",
    "    ax1.boxplot(df_clean[col_name])\n",
    "    \n",
    "    ax2.hist(df_clean[col_name])\n",
    "\n",
    "    ax3.scatter(x, df_clean[col_name])\n",
    "    \n",
    "    fig.suptitle(col_name, fontsize=16)\n",
    "\n",
    "    return plt.show()"
   ]
  },
  {
   "cell_type": "code",
   "execution_count": 79,
   "metadata": {},
   "outputs": [],
   "source": [
    "# define function for figures with log scale for the variable (y)\n",
    "\n",
    "def figure_log(col_name):\n",
    "    \n",
    "    x = df_clean['Happiness score']\n",
    "\n",
    "    fig, [ax1, ax2, ax3] = plt.subplots(1,3, figsize=(15,4))\n",
    "\n",
    "    ax1.boxplot(df_clean[col_name])\n",
    "    ax1.set_yscale('log') \n",
    "    \n",
    "    ax2.hist(df_clean[col_name])\n",
    "    ax2.set_yscale('log') \n",
    "\n",
    "    ax3.scatter(x, df_clean[col_name])\n",
    "    ax3.set_yscale('log') \n",
    "    \n",
    "    fig.suptitle(col_name + ' log scale', fontsize=16)\n",
    "\n",
    "    return plt.show()"
   ]
  },
  {
   "cell_type": "code",
   "execution_count": null,
   "metadata": {
    "scrolled": true
   },
   "outputs": [],
   "source": [
    "# df summary stats\n",
    "\n",
    "df_clean.describe()"
   ]
  },
  {
   "cell_type": "code",
   "execution_count": null,
   "metadata": {
    "scrolled": false
   },
   "outputs": [],
   "source": [
    "figure('CO2 emission per capita')\n",
    "\n",
    "# data very skewed"
   ]
  },
  {
   "cell_type": "code",
   "execution_count": null,
   "metadata": {},
   "outputs": [],
   "source": [
    "# on log scale\n",
    "\n",
    "figure_log('CO2 emission per capita')\n",
    "\n",
    "# improved but not great"
   ]
  },
  {
   "cell_type": "code",
   "execution_count": null,
   "metadata": {},
   "outputs": [],
   "source": [
    "figure('Compulsory education (years)')"
   ]
  },
  {
   "cell_type": "code",
   "execution_count": null,
   "metadata": {
    "scrolled": true
   },
   "outputs": [],
   "source": [
    "figure('GDP growth (annual %)')"
   ]
  },
  {
   "cell_type": "code",
   "execution_count": null,
   "metadata": {
    "scrolled": false
   },
   "outputs": [],
   "source": [
    "figure('GDP per capita')\n",
    "\n",
    "# very skewed"
   ]
  },
  {
   "cell_type": "code",
   "execution_count": null,
   "metadata": {},
   "outputs": [],
   "source": [
    "# on a log scale\n",
    "\n",
    "figure_log('GDP per capita')"
   ]
  },
  {
   "cell_type": "code",
   "execution_count": null,
   "metadata": {
    "scrolled": true
   },
   "outputs": [],
   "source": [
    "figure('Internet use (% of population)')"
   ]
  },
  {
   "cell_type": "code",
   "execution_count": null,
   "metadata": {
    "scrolled": false
   },
   "outputs": [],
   "source": [
    "figure('Land area')"
   ]
  },
  {
   "cell_type": "code",
   "execution_count": null,
   "metadata": {},
   "outputs": [],
   "source": [
    "# on a log scale\n",
    "\n",
    "figure_log('Land area')"
   ]
  },
  {
   "cell_type": "code",
   "execution_count": null,
   "metadata": {
    "scrolled": true
   },
   "outputs": [],
   "source": [
    "figure('Life expectancy')"
   ]
  },
  {
   "cell_type": "code",
   "execution_count": null,
   "metadata": {
    "scrolled": true
   },
   "outputs": [],
   "source": [
    "figure('Air pollution')"
   ]
  },
  {
   "cell_type": "code",
   "execution_count": null,
   "metadata": {},
   "outputs": [],
   "source": [
    "# on a log scale\n",
    "\n",
    "figure_log('Air pollution')"
   ]
  },
  {
   "cell_type": "code",
   "execution_count": null,
   "metadata": {
    "scrolled": true
   },
   "outputs": [],
   "source": [
    "figure('Drinking water services')"
   ]
  },
  {
   "cell_type": "code",
   "execution_count": null,
   "metadata": {},
   "outputs": [],
   "source": [
    "# on a log scale\n",
    "\n",
    "figure_log('Drinking water services')"
   ]
  },
  {
   "cell_type": "code",
   "execution_count": null,
   "metadata": {},
   "outputs": [],
   "source": [
    "figure('Population density')"
   ]
  },
  {
   "cell_type": "code",
   "execution_count": null,
   "metadata": {},
   "outputs": [],
   "source": [
    "# on a log scale\n",
    "\n",
    "figure_log('Population density')"
   ]
  },
  {
   "cell_type": "code",
   "execution_count": null,
   "metadata": {},
   "outputs": [],
   "source": [
    "figure('Population growth')"
   ]
  },
  {
   "cell_type": "code",
   "execution_count": null,
   "metadata": {},
   "outputs": [],
   "source": [
    "figure('Women in parliament %')"
   ]
  },
  {
   "cell_type": "code",
   "execution_count": null,
   "metadata": {},
   "outputs": [],
   "source": [
    "figure('Renewable energy %')"
   ]
  },
  {
   "cell_type": "code",
   "execution_count": null,
   "metadata": {},
   "outputs": [],
   "source": [
    "figure('Gender parity index (GPI)')"
   ]
  },
  {
   "cell_type": "code",
   "execution_count": null,
   "metadata": {},
   "outputs": [],
   "source": [
    "# on a log scale\n",
    "\n",
    "figure_log('Gender parity index (GPI)')"
   ]
  },
  {
   "cell_type": "code",
   "execution_count": null,
   "metadata": {
    "scrolled": true
   },
   "outputs": [],
   "source": [
    "figure('Protected land %')"
   ]
  },
  {
   "cell_type": "code",
   "execution_count": null,
   "metadata": {},
   "outputs": [],
   "source": [
    "figure('Urban population')"
   ]
  },
  {
   "cell_type": "code",
   "execution_count": null,
   "metadata": {
    "scrolled": true
   },
   "outputs": [],
   "source": [
    "figure('Refugees %')"
   ]
  },
  {
   "cell_type": "code",
   "execution_count": null,
   "metadata": {
    "scrolled": true
   },
   "outputs": [],
   "source": [
    "# on a log scale\n",
    "\n",
    "figure_log('Refugees %')"
   ]
  },
  {
   "cell_type": "code",
   "execution_count": 104,
   "metadata": {},
   "outputs": [],
   "source": [
    "# make df with several variables log transformed\n",
    "# first make copy of df_clean\n",
    "df_clean_tr = df_clean.copy()"
   ]
  },
  {
   "cell_type": "code",
   "execution_count": 105,
   "metadata": {},
   "outputs": [],
   "source": [
    "# perform log transformation on selected variables:\n",
    "\n",
    "log_columns = ['CO2 emission per capita', 'GDP per capita', 'Land area', 'Air pollution', 'Population density', 'Drinking water services', 'Population density', 'Gender parity index (GPI)', 'Refugees %']\n",
    "\n",
    "for col in log_columns:\n",
    "    df_clean_tr[col] = np.log10(df_clean_tr[col])"
   ]
  },
  {
   "cell_type": "code",
   "execution_count": 106,
   "metadata": {},
   "outputs": [],
   "source": [
    "# rename log transformed columnn\n",
    "\n",
    "for col in log_columns:\n",
    "    df_clean_tr.rename(columns = {col: col + ' log'}, inplace = True)"
   ]
  },
  {
   "cell_type": "code",
   "execution_count": 107,
   "metadata": {
    "scrolled": true
   },
   "outputs": [
    {
     "data": {
      "text/html": [
       "<div>\n",
       "<style scoped>\n",
       "    .dataframe tbody tr th:only-of-type {\n",
       "        vertical-align: middle;\n",
       "    }\n",
       "\n",
       "    .dataframe tbody tr th {\n",
       "        vertical-align: top;\n",
       "    }\n",
       "\n",
       "    .dataframe thead th {\n",
       "        text-align: right;\n",
       "    }\n",
       "</style>\n",
       "<table border=\"1\" class=\"dataframe\">\n",
       "  <thead>\n",
       "    <tr style=\"text-align: right;\">\n",
       "      <th></th>\n",
       "      <th>Happiness score</th>\n",
       "      <th>CO2 emission per capita log</th>\n",
       "      <th>Compulsory education (years)</th>\n",
       "      <th>GDP growth (annual %)</th>\n",
       "      <th>GDP per capita log</th>\n",
       "      <th>Internet use (% of population)</th>\n",
       "      <th>Land area log</th>\n",
       "      <th>Life expectancy</th>\n",
       "      <th>Air pollution log</th>\n",
       "      <th>Drinking water services log</th>\n",
       "      <th>Population density log</th>\n",
       "      <th>Population growth</th>\n",
       "      <th>Women in parliament %</th>\n",
       "      <th>Renewable energy %</th>\n",
       "      <th>Gender parity index (GPI) log</th>\n",
       "      <th>Protected land %</th>\n",
       "      <th>Urban population</th>\n",
       "      <th>Refugees % log</th>\n",
       "    </tr>\n",
       "  </thead>\n",
       "  <tbody>\n",
       "    <tr>\n",
       "      <th>0</th>\n",
       "      <td>7.5114</td>\n",
       "      <td>0.675108</td>\n",
       "      <td>11.000000</td>\n",
       "      <td>1.956542</td>\n",
       "      <td>4.917220</td>\n",
       "      <td>86.791615</td>\n",
       "      <td>4.596773</td>\n",
       "      <td>83.026287</td>\n",
       "      <td>1.066573</td>\n",
       "      <td>2.000000</td>\n",
       "      <td>0.364749</td>\n",
       "      <td>1.052495</td>\n",
       "      <td>30.800</td>\n",
       "      <td>22.946425</td>\n",
       "      <td>-0.001603</td>\n",
       "      <td>9.660123</td>\n",
       "      <td>73.697333</td>\n",
       "      <td>-5.736739</td>\n",
       "    </tr>\n",
       "    <tr>\n",
       "      <th>1</th>\n",
       "      <td>7.5110</td>\n",
       "      <td>0.772409</td>\n",
       "      <td>10.000000</td>\n",
       "      <td>2.998990</td>\n",
       "      <td>4.743932</td>\n",
       "      <td>96.981917</td>\n",
       "      <td>5.001084</td>\n",
       "      <td>82.454472</td>\n",
       "      <td>0.856043</td>\n",
       "      <td>2.000000</td>\n",
       "      <td>-0.285990</td>\n",
       "      <td>1.133978</td>\n",
       "      <td>41.440</td>\n",
       "      <td>76.467214</td>\n",
       "      <td>-0.000229</td>\n",
       "      <td>17.914355</td>\n",
       "      <td>93.675778</td>\n",
       "      <td>-5.066406</td>\n",
       "    </tr>\n",
       "    <tr>\n",
       "      <th>2</th>\n",
       "      <td>7.5460</td>\n",
       "      <td>0.845305</td>\n",
       "      <td>9.888889</td>\n",
       "      <td>1.778116</td>\n",
       "      <td>4.768797</td>\n",
       "      <td>94.347397</td>\n",
       "      <td>4.624156</td>\n",
       "      <td>80.440108</td>\n",
       "      <td>1.043249</td>\n",
       "      <td>2.000000</td>\n",
       "      <td>0.328109</td>\n",
       "      <td>0.531352</td>\n",
       "      <td>38.311</td>\n",
       "      <td>27.220085</td>\n",
       "      <td>-0.003591</td>\n",
       "      <td>17.921347</td>\n",
       "      <td>87.377222</td>\n",
       "      <td>-5.863501</td>\n",
       "    </tr>\n",
       "    <tr>\n",
       "      <th>3</th>\n",
       "      <td>7.5410</td>\n",
       "      <td>1.017703</td>\n",
       "      <td>10.000000</td>\n",
       "      <td>1.560165</td>\n",
       "      <td>4.944372</td>\n",
       "      <td>95.537903</td>\n",
       "      <td>5.562487</td>\n",
       "      <td>81.969919</td>\n",
       "      <td>0.886375</td>\n",
       "      <td>2.000000</td>\n",
       "      <td>0.059517</td>\n",
       "      <td>1.059666</td>\n",
       "      <td>39.903</td>\n",
       "      <td>57.320681</td>\n",
       "      <td>0.000101</td>\n",
       "      <td>17.060995</td>\n",
       "      <td>80.678222</td>\n",
       "      <td>-5.709362</td>\n",
       "    </tr>\n",
       "    <tr>\n",
       "      <th>4</th>\n",
       "      <td>7.3506</td>\n",
       "      <td>1.182819</td>\n",
       "      <td>10.000000</td>\n",
       "      <td>2.207759</td>\n",
       "      <td>4.681754</td>\n",
       "      <td>86.422500</td>\n",
       "      <td>6.958732</td>\n",
       "      <td>81.732249</td>\n",
       "      <td>0.878417</td>\n",
       "      <td>1.997183</td>\n",
       "      <td>-0.228555</td>\n",
       "      <td>1.078803</td>\n",
       "      <td>25.365</td>\n",
       "      <td>22.181059</td>\n",
       "      <td>0.002856</td>\n",
       "      <td>9.687049</td>\n",
       "      <td>81.209556</td>\n",
       "      <td>-5.580018</td>\n",
       "    </tr>\n",
       "  </tbody>\n",
       "</table>\n",
       "</div>"
      ],
      "text/plain": [
       "   Happiness score  CO2 emission per capita log  Compulsory education (years)  \\\n",
       "0           7.5114                     0.675108                     11.000000   \n",
       "1           7.5110                     0.772409                     10.000000   \n",
       "2           7.5460                     0.845305                      9.888889   \n",
       "3           7.5410                     1.017703                     10.000000   \n",
       "4           7.3506                     1.182819                     10.000000   \n",
       "\n",
       "   GDP growth (annual %)  GDP per capita log  Internet use (% of population)  \\\n",
       "0               1.956542            4.917220                       86.791615   \n",
       "1               2.998990            4.743932                       96.981917   \n",
       "2               1.778116            4.768797                       94.347397   \n",
       "3               1.560165            4.944372                       95.537903   \n",
       "4               2.207759            4.681754                       86.422500   \n",
       "\n",
       "   Land area log  Life expectancy  Air pollution log  \\\n",
       "0       4.596773        83.026287           1.066573   \n",
       "1       5.001084        82.454472           0.856043   \n",
       "2       4.624156        80.440108           1.043249   \n",
       "3       5.562487        81.969919           0.886375   \n",
       "4       6.958732        81.732249           0.878417   \n",
       "\n",
       "   Drinking water services log  Population density log  Population growth  \\\n",
       "0                     2.000000                0.364749           1.052495   \n",
       "1                     2.000000               -0.285990           1.133978   \n",
       "2                     2.000000                0.328109           0.531352   \n",
       "3                     2.000000                0.059517           1.059666   \n",
       "4                     1.997183               -0.228555           1.078803   \n",
       "\n",
       "   Women in parliament %  Renewable energy %  Gender parity index (GPI) log  \\\n",
       "0                 30.800           22.946425                      -0.001603   \n",
       "1                 41.440           76.467214                      -0.000229   \n",
       "2                 38.311           27.220085                      -0.003591   \n",
       "3                 39.903           57.320681                       0.000101   \n",
       "4                 25.365           22.181059                       0.002856   \n",
       "\n",
       "   Protected land %  Urban population  Refugees % log  \n",
       "0          9.660123         73.697333       -5.736739  \n",
       "1         17.914355         93.675778       -5.066406  \n",
       "2         17.921347         87.377222       -5.863501  \n",
       "3         17.060995         80.678222       -5.709362  \n",
       "4          9.687049         81.209556       -5.580018  "
      ]
     },
     "execution_count": 107,
     "metadata": {},
     "output_type": "execute_result"
    }
   ],
   "source": [
    "df_clean_tr.head()"
   ]
  },
  {
   "cell_type": "code",
   "execution_count": 108,
   "metadata": {},
   "outputs": [],
   "source": [
    "# save clean data with transformed variables for future use:\n",
    "\n",
    "df_clean_tr.to_csv('dfML_clean_tr.csv', index = False)"
   ]
  },
  {
   "cell_type": "code",
   "execution_count": null,
   "metadata": {},
   "outputs": [],
   "source": []
  },
  {
   "cell_type": "code",
   "execution_count": null,
   "metadata": {},
   "outputs": [],
   "source": []
  },
  {
   "cell_type": "code",
   "execution_count": null,
   "metadata": {},
   "outputs": [],
   "source": []
  }
 ],
 "metadata": {
  "kernelspec": {
   "display_name": "Python 3",
   "language": "python",
   "name": "python3"
  },
  "language_info": {
   "codemirror_mode": {
    "name": "ipython",
    "version": 3
   },
   "file_extension": ".py",
   "mimetype": "text/x-python",
   "name": "python",
   "nbconvert_exporter": "python",
   "pygments_lexer": "ipython3",
   "version": "3.7.3"
  }
 },
 "nbformat": 4,
 "nbformat_minor": 2
}
