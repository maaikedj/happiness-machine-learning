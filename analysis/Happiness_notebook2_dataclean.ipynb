{
 "cells": [
  {
   "cell_type": "markdown",
   "metadata": {},
   "source": [
    "# Analysis of the UN's World Happiness Index with machine learning\n",
    "\n",
    "Maaike de Jong  \n",
    "June 2020  \n",
    "  \n",
    "See the repository's [README](https://github.com/maaikedj/happiness-machine-learning/blob/master/README.md) file for background and details on the analysis and data.  \n",
    "\n",
    "### Notebook 2: data exploration and cleaning\n",
    "In this notebook I explore, clean and transform the data for further analysis. \n",
    "  "
   ]
  },
  {
   "cell_type": "code",
   "execution_count": null,
   "metadata": {},
   "outputs": [],
   "source": [
    "# import packages\n",
    "\n",
    "import numpy as np\n",
    "import pandas as pd\n",
    "\n",
    "import matplotlib.pyplot as plt\n",
    "import seaborn as sns"
   ]
  },
  {
   "cell_type": "code",
   "execution_count": null,
   "metadata": {
    "scrolled": true
   },
   "outputs": [],
   "source": [
    "# import data resulting from previous notebook\n",
    "\n",
    "df = pd.read_csv('dfML.csv')\n",
    "df.head()"
   ]
  },
  {
   "cell_type": "code",
   "execution_count": null,
   "metadata": {
    "scrolled": true
   },
   "outputs": [],
   "source": [
    "# check whether the columns are the right data type\n",
    "\n",
    "df.info()"
   ]
  },
  {
   "cell_type": "code",
   "execution_count": null,
   "metadata": {},
   "outputs": [],
   "source": [
    "# Check for missing values\n",
    "\n",
    "df.isnull().sum()"
   ]
  },
  {
   "cell_type": "code",
   "execution_count": null,
   "metadata": {
    "scrolled": false
   },
   "outputs": [],
   "source": [
    "# check whether variables are correlated with heatmap\n",
    "\n",
    "corr = df.corr()\n",
    "\n",
    "plt.figure(figsize=(15,12))\n",
    "sns.heatmap(corr)"
   ]
  },
  {
   "cell_type": "code",
   "execution_count": null,
   "metadata": {},
   "outputs": [],
   "source": [
    "# remove columns that have high correlations with other columns or are redundant:\n",
    "\n",
    "# Country\n",
    "# Region\n",
    "# Access to electricity (% of population)\n",
    "# Refugee population by country or territory of origin\n",
    "# Population, total\n",
    "\n",
    "df2 = df.drop(['Country', 'Region', 'Access to electricity (% of population)', 'Refugee population by country or territory of origin', 'Population, total'], axis=1)\n",
    "df2.head()"
   ]
  },
  {
   "cell_type": "code",
   "execution_count": null,
   "metadata": {},
   "outputs": [],
   "source": [
    "# drop rows with missing values\n",
    "\n",
    "df3 = df2.dropna()"
   ]
  },
  {
   "cell_type": "code",
   "execution_count": null,
   "metadata": {
    "scrolled": false
   },
   "outputs": [],
   "source": [
    "# check missing values again\n",
    "\n",
    "df3.isnull().sum()"
   ]
  },
  {
   "cell_type": "code",
   "execution_count": null,
   "metadata": {},
   "outputs": [],
   "source": [
    "# rename remaining columns for easier use and plotting\n",
    "\n",
    "df_clean = df3.rename(columns = {'Score mean': 'Happiness score',\n",
    "                            'CO2 emissions (metric tons per capita)': 'CO2 emission per capita',\n",
    "                            'Compulsory education, duration (years)': 'Compulsory education (years)',\n",
    "                            'GDP per capita (current US$)': 'GDP per capita',\n",
    "                            'Individuals using the Internet (% of population)': 'Internet use (% of population)',\n",
    "                            'Land area (sq. km)': 'Land area',\n",
    "                            'Life expectancy at birth, total (years)': 'Life expectancy',\n",
    "                            'PM2.5 air pollution, mean annual exposure (micrograms per cubic meter)': 'Air pollution',\n",
    "                            'People using at least basic drinking water services (% of population)': 'Drinking water services',\n",
    "                            'Population density (people per sq. km of land area)': 'Population density',\n",
    "                            'Population growth (annual %)': 'Population growth',\n",
    "                            'Proportion of seats held by women in national parliaments (%)': 'Women in parliament %',\n",
    "                            'Renewable energy consumption (% of total final energy consumption)': 'Renewable energy %',\n",
    "                            'School enrollment, primary (gross), gender parity index (GPI)': 'Gender parity index (GPI)',\n",
    "                            'Terrestrial protected areas (% of total land area)': 'Protected land %',\n",
    "                            'Urban population (% of total population)': 'Urban population',\n",
    "                            'Refugees country of origin (% of total population': 'Refugees %'})"
   ]
  },
  {
   "cell_type": "code",
   "execution_count": null,
   "metadata": {},
   "outputs": [],
   "source": [
    "list(df_clean.columns)"
   ]
  },
  {
   "cell_type": "code",
   "execution_count": null,
   "metadata": {},
   "outputs": [],
   "source": [
    "# save clean data frame for future use:\n",
    "\n",
    "df_clean.to_csv('dfML_clean.csv', index = False)"
   ]
  },
  {
   "cell_type": "markdown",
   "metadata": {},
   "source": [
    "### Visual data exploration\n",
    "\n",
    "Visualise distribution of variables with histogram and boxplot, and their relation with Happiness score with scatterplot"
   ]
  },
  {
   "cell_type": "code",
   "execution_count": null,
   "metadata": {},
   "outputs": [],
   "source": [
    "# define function for figures\n",
    "\n",
    "def figure(col_name):\n",
    "    \n",
    "    x = df_clean['Happiness score']\n",
    "\n",
    "    fig, [ax1, ax2, ax3] = plt.subplots(1,3, figsize=(15,4))\n",
    "\n",
    "    ax1.boxplot(df_clean[col_name])\n",
    "    \n",
    "    ax2.hist(df_clean[col_name])\n",
    "\n",
    "    ax3.scatter(x, df_clean[col_name])\n",
    "    \n",
    "    fig.suptitle(col_name, fontsize=16)\n",
    "\n",
    "    return plt.show()"
   ]
  },
  {
   "cell_type": "code",
   "execution_count": null,
   "metadata": {},
   "outputs": [],
   "source": [
    "# define function for figures with log scale for the variable (y)\n",
    "\n",
    "def figure_log(col_name):\n",
    "    \n",
    "    x = df_clean['Happiness score']\n",
    "\n",
    "    fig, [ax1, ax2, ax3] = plt.subplots(1,3, figsize=(15,4))\n",
    "\n",
    "    ax1.boxplot(df_clean[col_name])\n",
    "    ax1.set_yscale('log') \n",
    "    \n",
    "    ax2.hist(df_clean[col_name])\n",
    "    ax2.set_yscale('log') \n",
    "\n",
    "    ax3.scatter(x, df_clean[col_name])\n",
    "    ax3.set_yscale('log') \n",
    "    \n",
    "    fig.suptitle(col_name + ' log scale', fontsize=16)\n",
    "\n",
    "    return plt.show()"
   ]
  },
  {
   "cell_type": "code",
   "execution_count": null,
   "metadata": {
    "scrolled": true
   },
   "outputs": [],
   "source": [
    "# df summary stats\n",
    "\n",
    "df_clean.describe()"
   ]
  },
  {
   "cell_type": "code",
   "execution_count": null,
   "metadata": {
    "scrolled": false
   },
   "outputs": [],
   "source": [
    "figure('CO2 emission per capita')\n",
    "\n",
    "# data very skewed"
   ]
  },
  {
   "cell_type": "code",
   "execution_count": null,
   "metadata": {},
   "outputs": [],
   "source": [
    "# on log scale\n",
    "\n",
    "figure_log('CO2 emission per capita')\n",
    "\n",
    "# improved but not great"
   ]
  },
  {
   "cell_type": "code",
   "execution_count": null,
   "metadata": {},
   "outputs": [],
   "source": [
    "figure('Compulsory education (years)')"
   ]
  },
  {
   "cell_type": "code",
   "execution_count": null,
   "metadata": {
    "scrolled": true
   },
   "outputs": [],
   "source": [
    "figure('GDP growth (annual %)')"
   ]
  },
  {
   "cell_type": "code",
   "execution_count": null,
   "metadata": {
    "scrolled": false
   },
   "outputs": [],
   "source": [
    "figure('GDP per capita')\n",
    "\n",
    "# very skewed"
   ]
  },
  {
   "cell_type": "code",
   "execution_count": null,
   "metadata": {},
   "outputs": [],
   "source": [
    "# on a log scale\n",
    "\n",
    "figure_log('GDP per capita')"
   ]
  },
  {
   "cell_type": "code",
   "execution_count": null,
   "metadata": {
    "scrolled": true
   },
   "outputs": [],
   "source": [
    "figure('Internet use (% of population)')"
   ]
  },
  {
   "cell_type": "code",
   "execution_count": null,
   "metadata": {
    "scrolled": false
   },
   "outputs": [],
   "source": [
    "figure('Land area')"
   ]
  },
  {
   "cell_type": "code",
   "execution_count": null,
   "metadata": {},
   "outputs": [],
   "source": [
    "# on a log scale\n",
    "\n",
    "figure_log('Land area')"
   ]
  },
  {
   "cell_type": "code",
   "execution_count": null,
   "metadata": {
    "scrolled": true
   },
   "outputs": [],
   "source": [
    "figure('Life expectancy')"
   ]
  },
  {
   "cell_type": "code",
   "execution_count": null,
   "metadata": {
    "scrolled": true
   },
   "outputs": [],
   "source": [
    "figure('Air pollution')"
   ]
  },
  {
   "cell_type": "code",
   "execution_count": null,
   "metadata": {},
   "outputs": [],
   "source": [
    "# on a log scale\n",
    "\n",
    "figure_log('Air pollution')"
   ]
  },
  {
   "cell_type": "code",
   "execution_count": null,
   "metadata": {
    "scrolled": true
   },
   "outputs": [],
   "source": [
    "figure('Drinking water services')"
   ]
  },
  {
   "cell_type": "code",
   "execution_count": null,
   "metadata": {},
   "outputs": [],
   "source": [
    "# on a log scale\n",
    "\n",
    "figure_log('Drinking water services')"
   ]
  },
  {
   "cell_type": "code",
   "execution_count": null,
   "metadata": {},
   "outputs": [],
   "source": [
    "figure('Population density')"
   ]
  },
  {
   "cell_type": "code",
   "execution_count": null,
   "metadata": {},
   "outputs": [],
   "source": [
    "# on a log scale\n",
    "\n",
    "figure_log('Population density')"
   ]
  },
  {
   "cell_type": "code",
   "execution_count": null,
   "metadata": {},
   "outputs": [],
   "source": [
    "figure('Population growth')"
   ]
  },
  {
   "cell_type": "code",
   "execution_count": null,
   "metadata": {},
   "outputs": [],
   "source": [
    "figure('Women in parliament %')"
   ]
  },
  {
   "cell_type": "code",
   "execution_count": null,
   "metadata": {},
   "outputs": [],
   "source": [
    "figure('Renewable energy %')"
   ]
  },
  {
   "cell_type": "code",
   "execution_count": null,
   "metadata": {},
   "outputs": [],
   "source": [
    "figure('Gender parity index (GPI)')"
   ]
  },
  {
   "cell_type": "code",
   "execution_count": null,
   "metadata": {},
   "outputs": [],
   "source": [
    "# on a log scale\n",
    "\n",
    "figure_log('Gender parity index (GPI)')"
   ]
  },
  {
   "cell_type": "code",
   "execution_count": null,
   "metadata": {
    "scrolled": true
   },
   "outputs": [],
   "source": [
    "figure('Protected land %')"
   ]
  },
  {
   "cell_type": "code",
   "execution_count": null,
   "metadata": {},
   "outputs": [],
   "source": [
    "figure('Urban population')"
   ]
  },
  {
   "cell_type": "code",
   "execution_count": null,
   "metadata": {
    "scrolled": true
   },
   "outputs": [],
   "source": [
    "figure('Refugees %')"
   ]
  },
  {
   "cell_type": "code",
   "execution_count": null,
   "metadata": {
    "scrolled": true
   },
   "outputs": [],
   "source": [
    "# on a log scale\n",
    "\n",
    "figure_log('Refugees %')\n",
    "\n",
    "# plot issue due to lots of zeroes on a log scale"
   ]
  },
  {
   "cell_type": "code",
   "execution_count": null,
   "metadata": {},
   "outputs": [],
   "source": [
    "# make df with several variables log transformed\n",
    "# first make copy of df_clean\n",
    "df_clean_tr = df_clean.copy()"
   ]
  },
  {
   "cell_type": "code",
   "execution_count": null,
   "metadata": {},
   "outputs": [],
   "source": [
    "# perform log transformation on selected variables:\n",
    "\n",
    "log_columns = ['CO2 emission per capita', 'GDP per capita', 'Land area', 'Air pollution', 'Population density', 'Drinking water services', 'Population density', 'Gender parity index (GPI)', 'Refugees %']\n",
    "\n",
    "for col in log_columns:\n",
    "    df_clean_tr[col] = np.log10(df_clean_tr[col])"
   ]
  },
  {
   "cell_type": "code",
   "execution_count": null,
   "metadata": {},
   "outputs": [],
   "source": [
    "# rename log transformed columnn\n",
    "\n",
    "for col in log_columns:\n",
    "    df_clean_tr.rename(columns = {col: col + ' (log)'}, inplace = True)"
   ]
  },
  {
   "cell_type": "code",
   "execution_count": null,
   "metadata": {
    "scrolled": true
   },
   "outputs": [],
   "source": [
    "df_clean_tr.head()"
   ]
  },
  {
   "cell_type": "code",
   "execution_count": null,
   "metadata": {},
   "outputs": [],
   "source": [
    "# save clean data with transformed variables for future use:\n",
    "\n",
    "df_clean_tr.to_csv('dfML_clean_tr.csv', index = False)"
   ]
  },
  {
   "cell_type": "code",
   "execution_count": null,
   "metadata": {},
   "outputs": [],
   "source": []
  },
  {
   "cell_type": "code",
   "execution_count": null,
   "metadata": {},
   "outputs": [],
   "source": []
  }
 ],
 "metadata": {
  "kernelspec": {
   "display_name": "Python 3",
   "language": "python",
   "name": "python3"
  },
  "language_info": {
   "codemirror_mode": {
    "name": "ipython",
    "version": 3
   },
   "file_extension": ".py",
   "mimetype": "text/x-python",
   "name": "python",
   "nbconvert_exporter": "python",
   "pygments_lexer": "ipython3",
   "version": "3.7.3"
  }
 },
 "nbformat": 4,
 "nbformat_minor": 2
}
