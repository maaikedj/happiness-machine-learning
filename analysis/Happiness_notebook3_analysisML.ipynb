{
 "cells": [
  {
   "cell_type": "markdown",
   "metadata": {},
   "source": [
    "# Analysis of the UN's World Happiness Index with machine learning\n",
    "\n",
    "Maaike de Jong  \n",
    "June 2020  \n",
    "  \n",
    "See the repository's [README](https://github.com/maaikedj/happiness-machine-learning/blob/master/README.md) file for background and details on the analysis and data.  \n",
    "\n",
    "### Notebook 3: Supervised machine learning: linear regression\n",
    "In this notebook I perform a linear regression analysis with scikit-learn, optimising the model with recursive feature elimination. "
   ]
  },
  {
   "cell_type": "code",
   "execution_count": 1,
   "metadata": {},
   "outputs": [],
   "source": [
    "# import packages\n",
    "\n",
    "import numpy as np\n",
    "import pandas as pd\n",
    "\n",
    "import matplotlib.pyplot as plt\n",
    "import seaborn as sns\n",
    "\n",
    "from sklearn.model_selection import train_test_split\n",
    "from sklearn import linear_model\n",
    "from sklearn.metrics import r2_score\n",
    "from sklearn.feature_selection import RFE\n",
    "from sklearn.preprocessing import MinMaxScaler \n",
    "from sklearn.preprocessing import RobustScaler \n",
    "from sklearn.preprocessing import StandardScaler"
   ]
  },
  {
   "cell_type": "code",
   "execution_count": 2,
   "metadata": {
    "scrolled": true
   },
   "outputs": [
    {
     "data": {
      "text/html": [
       "<div>\n",
       "<style scoped>\n",
       "    .dataframe tbody tr th:only-of-type {\n",
       "        vertical-align: middle;\n",
       "    }\n",
       "\n",
       "    .dataframe tbody tr th {\n",
       "        vertical-align: top;\n",
       "    }\n",
       "\n",
       "    .dataframe thead th {\n",
       "        text-align: right;\n",
       "    }\n",
       "</style>\n",
       "<table border=\"1\" class=\"dataframe\">\n",
       "  <thead>\n",
       "    <tr style=\"text-align: right;\">\n",
       "      <th></th>\n",
       "      <th>Score mean</th>\n",
       "      <th>CO2 emissions (metric tons per capita) log</th>\n",
       "      <th>GDP per capita (current US$) log</th>\n",
       "      <th>Individuals using the Internet (% of population)</th>\n",
       "      <th>Land area (sq. km) log</th>\n",
       "      <th>Life expectancy at birth, total (years)</th>\n",
       "      <th>PM2.5 air pollution, mean annual exposure (micrograms per cubic meter) log</th>\n",
       "      <th>People using at least basic drinking water services (% of population)</th>\n",
       "      <th>Population density (people per sq. km of land area) log</th>\n",
       "      <th>Population growth (annual %)</th>\n",
       "      <th>Primary education, duration (years)</th>\n",
       "      <th>Proportion of seats held by women in national parliaments (%)</th>\n",
       "      <th>Renewable energy consumption (% of total final energy consumption)</th>\n",
       "      <th>Secondary education, duration (years)</th>\n",
       "      <th>Terrestrial protected areas (% of total land area)</th>\n",
       "      <th>Urban population (% of total population)</th>\n",
       "      <th>Refugees country of origin (% of total population log</th>\n",
       "    </tr>\n",
       "  </thead>\n",
       "  <tbody>\n",
       "    <tr>\n",
       "      <th>0</th>\n",
       "      <td>7.5114</td>\n",
       "      <td>0.675108</td>\n",
       "      <td>4.917220</td>\n",
       "      <td>86.791615</td>\n",
       "      <td>4.596773</td>\n",
       "      <td>83.026287</td>\n",
       "      <td>1.066573</td>\n",
       "      <td>100.000000</td>\n",
       "      <td>2.316057</td>\n",
       "      <td>1.052495</td>\n",
       "      <td>6.0</td>\n",
       "      <td>30.800</td>\n",
       "      <td>22.946425</td>\n",
       "      <td>7.0</td>\n",
       "      <td>9.660123</td>\n",
       "      <td>73.697333</td>\n",
       "      <td>-5.736739</td>\n",
       "    </tr>\n",
       "    <tr>\n",
       "      <th>1</th>\n",
       "      <td>7.5110</td>\n",
       "      <td>0.772409</td>\n",
       "      <td>4.743932</td>\n",
       "      <td>96.981917</td>\n",
       "      <td>5.001084</td>\n",
       "      <td>82.454472</td>\n",
       "      <td>0.856043</td>\n",
       "      <td>99.999999</td>\n",
       "      <td>0.517619</td>\n",
       "      <td>1.133978</td>\n",
       "      <td>7.0</td>\n",
       "      <td>41.440</td>\n",
       "      <td>76.467214</td>\n",
       "      <td>7.0</td>\n",
       "      <td>17.914355</td>\n",
       "      <td>93.675778</td>\n",
       "      <td>-5.066406</td>\n",
       "    </tr>\n",
       "    <tr>\n",
       "      <th>2</th>\n",
       "      <td>7.5460</td>\n",
       "      <td>0.845305</td>\n",
       "      <td>4.768797</td>\n",
       "      <td>94.347397</td>\n",
       "      <td>4.624156</td>\n",
       "      <td>80.440108</td>\n",
       "      <td>1.043249</td>\n",
       "      <td>99.999999</td>\n",
       "      <td>2.128672</td>\n",
       "      <td>0.531352</td>\n",
       "      <td>6.9</td>\n",
       "      <td>38.311</td>\n",
       "      <td>27.220085</td>\n",
       "      <td>6.0</td>\n",
       "      <td>17.921347</td>\n",
       "      <td>87.377222</td>\n",
       "      <td>-5.863501</td>\n",
       "    </tr>\n",
       "    <tr>\n",
       "      <th>3</th>\n",
       "      <td>7.5410</td>\n",
       "      <td>1.017703</td>\n",
       "      <td>4.944372</td>\n",
       "      <td>95.537903</td>\n",
       "      <td>5.562487</td>\n",
       "      <td>81.969919</td>\n",
       "      <td>0.886375</td>\n",
       "      <td>100.000000</td>\n",
       "      <td>1.146877</td>\n",
       "      <td>1.059666</td>\n",
       "      <td>7.0</td>\n",
       "      <td>39.903</td>\n",
       "      <td>57.320681</td>\n",
       "      <td>6.0</td>\n",
       "      <td>17.060995</td>\n",
       "      <td>80.678222</td>\n",
       "      <td>-5.709362</td>\n",
       "    </tr>\n",
       "    <tr>\n",
       "      <th>4</th>\n",
       "      <td>7.3506</td>\n",
       "      <td>1.182819</td>\n",
       "      <td>4.681754</td>\n",
       "      <td>86.422500</td>\n",
       "      <td>6.958732</td>\n",
       "      <td>81.732249</td>\n",
       "      <td>0.878417</td>\n",
       "      <td>99.353377</td>\n",
       "      <td>0.590806</td>\n",
       "      <td>1.078803</td>\n",
       "      <td>6.0</td>\n",
       "      <td>25.365</td>\n",
       "      <td>22.181059</td>\n",
       "      <td>6.0</td>\n",
       "      <td>9.687049</td>\n",
       "      <td>81.209556</td>\n",
       "      <td>-5.580018</td>\n",
       "    </tr>\n",
       "  </tbody>\n",
       "</table>\n",
       "</div>"
      ],
      "text/plain": [
       "   Score mean  CO2 emissions (metric tons per capita) log  \\\n",
       "0      7.5114                                    0.675108   \n",
       "1      7.5110                                    0.772409   \n",
       "2      7.5460                                    0.845305   \n",
       "3      7.5410                                    1.017703   \n",
       "4      7.3506                                    1.182819   \n",
       "\n",
       "   GDP per capita (current US$) log  \\\n",
       "0                          4.917220   \n",
       "1                          4.743932   \n",
       "2                          4.768797   \n",
       "3                          4.944372   \n",
       "4                          4.681754   \n",
       "\n",
       "   Individuals using the Internet (% of population)  Land area (sq. km) log  \\\n",
       "0                                         86.791615                4.596773   \n",
       "1                                         96.981917                5.001084   \n",
       "2                                         94.347397                4.624156   \n",
       "3                                         95.537903                5.562487   \n",
       "4                                         86.422500                6.958732   \n",
       "\n",
       "   Life expectancy at birth, total (years)  \\\n",
       "0                                83.026287   \n",
       "1                                82.454472   \n",
       "2                                80.440108   \n",
       "3                                81.969919   \n",
       "4                                81.732249   \n",
       "\n",
       "   PM2.5 air pollution, mean annual exposure (micrograms per cubic meter) log  \\\n",
       "0                                           1.066573                            \n",
       "1                                           0.856043                            \n",
       "2                                           1.043249                            \n",
       "3                                           0.886375                            \n",
       "4                                           0.878417                            \n",
       "\n",
       "   People using at least basic drinking water services (% of population)  \\\n",
       "0                                         100.000000                       \n",
       "1                                          99.999999                       \n",
       "2                                          99.999999                       \n",
       "3                                         100.000000                       \n",
       "4                                          99.353377                       \n",
       "\n",
       "   Population density (people per sq. km of land area) log  \\\n",
       "0                                           2.316057         \n",
       "1                                           0.517619         \n",
       "2                                           2.128672         \n",
       "3                                           1.146877         \n",
       "4                                           0.590806         \n",
       "\n",
       "   Population growth (annual %)  Primary education, duration (years)  \\\n",
       "0                      1.052495                                  6.0   \n",
       "1                      1.133978                                  7.0   \n",
       "2                      0.531352                                  6.9   \n",
       "3                      1.059666                                  7.0   \n",
       "4                      1.078803                                  6.0   \n",
       "\n",
       "   Proportion of seats held by women in national parliaments (%)  \\\n",
       "0                                             30.800               \n",
       "1                                             41.440               \n",
       "2                                             38.311               \n",
       "3                                             39.903               \n",
       "4                                             25.365               \n",
       "\n",
       "   Renewable energy consumption (% of total final energy consumption)  \\\n",
       "0                                          22.946425                    \n",
       "1                                          76.467214                    \n",
       "2                                          27.220085                    \n",
       "3                                          57.320681                    \n",
       "4                                          22.181059                    \n",
       "\n",
       "   Secondary education, duration (years)  \\\n",
       "0                                    7.0   \n",
       "1                                    7.0   \n",
       "2                                    6.0   \n",
       "3                                    6.0   \n",
       "4                                    6.0   \n",
       "\n",
       "   Terrestrial protected areas (% of total land area)  \\\n",
       "0                                           9.660123    \n",
       "1                                          17.914355    \n",
       "2                                          17.921347    \n",
       "3                                          17.060995    \n",
       "4                                           9.687049    \n",
       "\n",
       "   Urban population (% of total population)  \\\n",
       "0                                 73.697333   \n",
       "1                                 93.675778   \n",
       "2                                 87.377222   \n",
       "3                                 80.678222   \n",
       "4                                 81.209556   \n",
       "\n",
       "   Refugees country of origin (% of total population log  \n",
       "0                                          -5.736739      \n",
       "1                                          -5.066406      \n",
       "2                                          -5.863501      \n",
       "3                                          -5.709362      \n",
       "4                                          -5.580018      "
      ]
     },
     "execution_count": 2,
     "metadata": {},
     "output_type": "execute_result"
    }
   ],
   "source": [
    "# import data\n",
    "\n",
    "df = pd.read_csv('dfML_clean_tr.csv')\n",
    "df.head()"
   ]
  },
  {
   "cell_type": "code",
   "execution_count": 4,
   "metadata": {},
   "outputs": [
    {
     "data": {
      "text/plain": [
       "<matplotlib.axes._subplots.AxesSubplot at 0x1a20ba1b70>"
      ]
     },
     "execution_count": 4,
     "metadata": {},
     "output_type": "execute_result"
    },
    {
     "data": {
      "image/png": "[encoded data removed]",
      "text/plain": [
       "<Figure size 1080x864 with 2 Axes>"
      ]
     },
     "metadata": {
      "needs_background": "light"
     },
     "output_type": "display_data"
    }
   ],
   "source": [
    "# check correlations between variables with heatmap\n",
    "\n",
    "corr = df.corr()\n",
    "\n",
    "plt.figure(figsize=(15,12))\n",
    "sns.heatmap(corr)"
   ]
  },
  {
   "cell_type": "markdown",
   "metadata": {},
   "source": [
    "### Linear regression  \n",
    "\n",
    "* Build a model with 80% train, 20 % test data\n",
    "* Calculate train and test R2 scores\n",
    "* Average R2 scores over 1000 model runs\n",
    "\n",
    "Try different ways of scaling the data to check which gives the best results"
   ]
  },
  {
   "cell_type": "code",
   "execution_count": 5,
   "metadata": {},
   "outputs": [],
   "source": [
    "# model with unscaled data\n",
    "\n",
    "score_list = []\n",
    "\n",
    "for i in range(1000):\n",
    "    y = df['Score mean']\n",
    "    X = df.drop(['Score mean'], axis=1)\n",
    "    \n",
    "    X_train, X_test, y_train, y_test = train_test_split(X, y, test_size=0.20)\n",
    "    \n",
    "    LM = linear_model.LinearRegression()\n",
    "    \n",
    "    LM.fit(X_train, y_train)\n",
    "    \n",
    "    y_pred = LM.predict(X_train)\n",
    "    r2score_train = r2_score(y_train, y_pred)\n",
    "    \n",
    "    y_test_pred = LM.predict(X_test)\n",
    "    r2score_test = r2_score(y_test, y_test_pred)\n",
    "    \n",
    "    score_list.append((r2score_train, r2score_test))"
   ]
  },
  {
   "cell_type": "code",
   "execution_count": 6,
   "metadata": {},
   "outputs": [
    {
     "data": {
      "text/html": [
       "<div>\n",
       "<style scoped>\n",
       "    .dataframe tbody tr th:only-of-type {\n",
       "        vertical-align: middle;\n",
       "    }\n",
       "\n",
       "    .dataframe tbody tr th {\n",
       "        vertical-align: top;\n",
       "    }\n",
       "\n",
       "    .dataframe thead th {\n",
       "        text-align: right;\n",
       "    }\n",
       "</style>\n",
       "<table border=\"1\" class=\"dataframe\">\n",
       "  <thead>\n",
       "    <tr style=\"text-align: right;\">\n",
       "      <th></th>\n",
       "      <th>r2score_train</th>\n",
       "      <th>r2score_test</th>\n",
       "    </tr>\n",
       "  </thead>\n",
       "  <tbody>\n",
       "    <tr>\n",
       "      <th>0</th>\n",
       "      <td>0.823897</td>\n",
       "      <td>0.694430</td>\n",
       "    </tr>\n",
       "    <tr>\n",
       "      <th>1</th>\n",
       "      <td>0.803395</td>\n",
       "      <td>0.792659</td>\n",
       "    </tr>\n",
       "    <tr>\n",
       "      <th>2</th>\n",
       "      <td>0.804698</td>\n",
       "      <td>0.802607</td>\n",
       "    </tr>\n",
       "    <tr>\n",
       "      <th>3</th>\n",
       "      <td>0.807413</td>\n",
       "      <td>0.769063</td>\n",
       "    </tr>\n",
       "    <tr>\n",
       "      <th>4</th>\n",
       "      <td>0.838605</td>\n",
       "      <td>0.637354</td>\n",
       "    </tr>\n",
       "  </tbody>\n",
       "</table>\n",
       "</div>"
      ],
      "text/plain": [
       "   r2score_train  r2score_test\n",
       "0       0.823897      0.694430\n",
       "1       0.803395      0.792659\n",
       "2       0.804698      0.802607\n",
       "3       0.807413      0.769063\n",
       "4       0.838605      0.637354"
      ]
     },
     "execution_count": 6,
     "metadata": {},
     "output_type": "execute_result"
    }
   ],
   "source": [
    "# Create df with R2 scores\n",
    "\n",
    "score_df = pd.DataFrame(score_list, columns=('r2score_train', 'r2score_test'))\n",
    "score_df.head()"
   ]
  },
  {
   "cell_type": "code",
   "execution_count": 7,
   "metadata": {
    "scrolled": true
   },
   "outputs": [
    {
     "name": "stdout",
     "output_type": "stream",
     "text": [
      "r2score_train    0.814416\n",
      "r2score_test     0.735631\n",
      "dtype: float64\n"
     ]
    }
   ],
   "source": [
    "# print train and test score means\n",
    "\n",
    "print(score_df.mean())\n",
    "\n",
    "# The unscaled data performs pretty well, although there is an indication of overfitting, which is not surprising with so many variables"
   ]
  },
  {
   "cell_type": "code",
   "execution_count": 18,
   "metadata": {},
   "outputs": [],
   "source": [
    "# define function to run model with df, test size and scaling method as input\n",
    "# fit scaler on training data only, use to standardise both training and test sets\n",
    "\n",
    "\n",
    "def linear_regression(df, test_size, scalertype):\n",
    "    \n",
    "    score_list = []\n",
    "\n",
    "    for i in range(1000):\n",
    "        y = df['Score mean']\n",
    "        X = df.drop(['Score mean'], axis=1)\n",
    "    \n",
    "        X_train, X_test, y_train, y_test = train_test_split(X, y, test_size=test_size)\n",
    "        \n",
    "        scaler = scalertype()\n",
    "\n",
    "        X_train_scaled = scaler.fit_transform(X_train)\n",
    "\n",
    "        X_test_scaled = scaler.transform(X_test)\n",
    "    \n",
    "        LM = linear_model.LinearRegression()\n",
    "    \n",
    "        LM.fit(X_train_scaled, y_train)\n",
    "    \n",
    "        y_pred = LM.predict(X_train_scaled)\n",
    "        r2score_train = r2_score(y_train, y_pred)\n",
    "    \n",
    "        y_test_pred = LM.predict(X_test_scaled)\n",
    "        r2score_test = r2_score(y_test, y_test_pred)\n",
    "    \n",
    "        score_list.append((r2score_train, r2score_test))\n",
    "    \n",
    "    score_df = pd.DataFrame(score_list, columns=('r2score_train', 'r2score_test'))\n",
    "    \n",
    "    return print(score_df.mean())"
   ]
  },
  {
   "cell_type": "code",
   "execution_count": 19,
   "metadata": {},
   "outputs": [
    {
     "name": "stdout",
     "output_type": "stream",
     "text": [
      "r2score_train    0.815099\n",
      "r2score_test     0.729828\n",
      "dtype: float64\n"
     ]
    }
   ],
   "source": [
    "# Compare different scalers\n",
    "# Run model with MinMaxScaler\n",
    "\n",
    "linear_regression(df, 0.20, MinMaxScaler)"
   ]
  },
  {
   "cell_type": "code",
   "execution_count": 21,
   "metadata": {},
   "outputs": [
    {
     "name": "stdout",
     "output_type": "stream",
     "text": [
      "r2score_train    0.815023\n",
      "r2score_test     0.729869\n",
      "dtype: float64\n"
     ]
    }
   ],
   "source": [
    "# Now with StandardScaler\n",
    "\n",
    "linear_regression(df, 0.20, StandardScaler)"
   ]
  },
  {
   "cell_type": "code",
   "execution_count": 22,
   "metadata": {},
   "outputs": [
    {
     "name": "stdout",
     "output_type": "stream",
     "text": [
      "r2score_train    0.814584\n",
      "r2score_test     0.732376\n",
      "dtype: float64\n"
     ]
    }
   ],
   "source": [
    "# Now with RobustScaler\n",
    "\n",
    "linear_regression(df, 0.20, RobustScaler)"
   ]
  },
  {
   "cell_type": "code",
   "execution_count": null,
   "metadata": {},
   "outputs": [],
   "source": [
    "# Different types of scaling don't give different results and are similar to the unscaled data\n",
    "# I could investigate this visually and/or with PCA as a next step\n",
    "# for now I go with the MinMaxScaler as it doesn’t distort the distances between the values in each feature "
   ]
  },
  {
   "cell_type": "markdown",
   "metadata": {},
   "source": [
    "### Recursive feature elimination"
   ]
  },
  {
   "cell_type": "code",
   "execution_count": 23,
   "metadata": {},
   "outputs": [
    {
     "name": "stdout",
     "output_type": "stream",
     "text": [
      "r2score_train    0.814958\n",
      "r2score_test     0.729357\n",
      "dtype: float64\n"
     ]
    }
   ],
   "source": [
    "# run model again with MinMaxScaler\n",
    "\n",
    "score_list = []\n",
    "\n",
    "for i in range(1000):\n",
    "    y = df['Score mean']\n",
    "    X = df.drop(['Score mean'], axis=1)\n",
    "    \n",
    "    X_train, X_test, y_train, y_test = train_test_split(X, y, test_size=0.20)\n",
    "        \n",
    "    scaler = MinMaxScaler()\n",
    "\n",
    "    X_train_scaled = scaler.fit_transform(X_train)\n",
    "\n",
    "    X_test_scaled = scaler.transform(X_test)\n",
    "    \n",
    "    LM = linear_model.LinearRegression()\n",
    "    \n",
    "    LM.fit(X_train_scaled, y_train)\n",
    "    \n",
    "    y_pred = LM.predict(X_train_scaled)\n",
    "    r2score_train = r2_score(y_train, y_pred)\n",
    "    \n",
    "    y_test_pred = LM.predict(X_test_scaled)\n",
    "    r2score_test = r2_score(y_test, y_test_pred)\n",
    "    \n",
    "    score_list.append((r2score_train, r2score_test))\n",
    "    \n",
    "score_df = pd.DataFrame(score_list, columns=('r2score_train', 'r2score_test'))\n",
    "\n",
    "print(score_df.mean())"
   ]
  },
  {
   "cell_type": "code",
   "execution_count": 24,
   "metadata": {},
   "outputs": [
    {
     "data": {
      "text/plain": [
       "array([ 3,  1, 13, 10,  9,  2, 11,  8,  7,  4, 12, 14,  5, 15, 16,  6])"
      ]
     },
     "execution_count": 24,
     "metadata": {},
     "output_type": "execute_result"
    }
   ],
   "source": [
    "# eliminate least important variables one by one\n",
    "# collect R2 scores in dataframe\n",
    "# first select 15 most important features\n",
    "\n",
    "selector = RFE(LM, n_features_to_select=1, step=1)\n",
    "\n",
    "selector = selector.fit(X, y)\n",
    "\n",
    "selector.ranking_"
   ]
  },
  {
   "cell_type": "code",
   "execution_count": 25,
   "metadata": {},
   "outputs": [
    {
     "data": {
      "text/html": [
       "<div>\n",
       "<style scoped>\n",
       "    .dataframe tbody tr th:only-of-type {\n",
       "        vertical-align: middle;\n",
       "    }\n",
       "\n",
       "    .dataframe tbody tr th {\n",
       "        vertical-align: top;\n",
       "    }\n",
       "\n",
       "    .dataframe thead th {\n",
       "        text-align: right;\n",
       "    }\n",
       "</style>\n",
       "<table border=\"1\" class=\"dataframe\">\n",
       "  <thead>\n",
       "    <tr style=\"text-align: right;\">\n",
       "      <th></th>\n",
       "      <th>Score mean</th>\n",
       "      <th>CO2 emissions (metric tons per capita) log</th>\n",
       "      <th>GDP per capita (current US$) log</th>\n",
       "      <th>Individuals using the Internet (% of population)</th>\n",
       "      <th>Land area (sq. km) log</th>\n",
       "      <th>Life expectancy at birth, total (years)</th>\n",
       "      <th>PM2.5 air pollution, mean annual exposure (micrograms per cubic meter) log</th>\n",
       "      <th>People using at least basic drinking water services (% of population)</th>\n",
       "      <th>Population density (people per sq. km of land area) log</th>\n",
       "      <th>Population growth (annual %)</th>\n",
       "      <th>Primary education, duration (years)</th>\n",
       "      <th>Proportion of seats held by women in national parliaments (%)</th>\n",
       "      <th>Renewable energy consumption (% of total final energy consumption)</th>\n",
       "      <th>Secondary education, duration (years)</th>\n",
       "      <th>Terrestrial protected areas (% of total land area)</th>\n",
       "      <th>Urban population (% of total population)</th>\n",
       "      <th>Refugees country of origin (% of total population log</th>\n",
       "    </tr>\n",
       "  </thead>\n",
       "  <tbody>\n",
       "    <tr>\n",
       "      <th>0</th>\n",
       "      <td>7.5114</td>\n",
       "      <td>0.675108</td>\n",
       "      <td>4.917220</td>\n",
       "      <td>86.791615</td>\n",
       "      <td>4.596773</td>\n",
       "      <td>83.026287</td>\n",
       "      <td>1.066573</td>\n",
       "      <td>100.000000</td>\n",
       "      <td>2.316057</td>\n",
       "      <td>1.052495</td>\n",
       "      <td>6.0</td>\n",
       "      <td>30.800</td>\n",
       "      <td>22.946425</td>\n",
       "      <td>7.0</td>\n",
       "      <td>9.660123</td>\n",
       "      <td>73.697333</td>\n",
       "      <td>-5.736739</td>\n",
       "    </tr>\n",
       "    <tr>\n",
       "      <th>1</th>\n",
       "      <td>7.5110</td>\n",
       "      <td>0.772409</td>\n",
       "      <td>4.743932</td>\n",
       "      <td>96.981917</td>\n",
       "      <td>5.001084</td>\n",
       "      <td>82.454472</td>\n",
       "      <td>0.856043</td>\n",
       "      <td>99.999999</td>\n",
       "      <td>0.517619</td>\n",
       "      <td>1.133978</td>\n",
       "      <td>7.0</td>\n",
       "      <td>41.440</td>\n",
       "      <td>76.467214</td>\n",
       "      <td>7.0</td>\n",
       "      <td>17.914355</td>\n",
       "      <td>93.675778</td>\n",
       "      <td>-5.066406</td>\n",
       "    </tr>\n",
       "    <tr>\n",
       "      <th>2</th>\n",
       "      <td>7.5460</td>\n",
       "      <td>0.845305</td>\n",
       "      <td>4.768797</td>\n",
       "      <td>94.347397</td>\n",
       "      <td>4.624156</td>\n",
       "      <td>80.440108</td>\n",
       "      <td>1.043249</td>\n",
       "      <td>99.999999</td>\n",
       "      <td>2.128672</td>\n",
       "      <td>0.531352</td>\n",
       "      <td>6.9</td>\n",
       "      <td>38.311</td>\n",
       "      <td>27.220085</td>\n",
       "      <td>6.0</td>\n",
       "      <td>17.921347</td>\n",
       "      <td>87.377222</td>\n",
       "      <td>-5.863501</td>\n",
       "    </tr>\n",
       "    <tr>\n",
       "      <th>3</th>\n",
       "      <td>7.5410</td>\n",
       "      <td>1.017703</td>\n",
       "      <td>4.944372</td>\n",
       "      <td>95.537903</td>\n",
       "      <td>5.562487</td>\n",
       "      <td>81.969919</td>\n",
       "      <td>0.886375</td>\n",
       "      <td>100.000000</td>\n",
       "      <td>1.146877</td>\n",
       "      <td>1.059666</td>\n",
       "      <td>7.0</td>\n",
       "      <td>39.903</td>\n",
       "      <td>57.320681</td>\n",
       "      <td>6.0</td>\n",
       "      <td>17.060995</td>\n",
       "      <td>80.678222</td>\n",
       "      <td>-5.709362</td>\n",
       "    </tr>\n",
       "    <tr>\n",
       "      <th>4</th>\n",
       "      <td>7.3506</td>\n",
       "      <td>1.182819</td>\n",
       "      <td>4.681754</td>\n",
       "      <td>86.422500</td>\n",
       "      <td>6.958732</td>\n",
       "      <td>81.732249</td>\n",
       "      <td>0.878417</td>\n",
       "      <td>99.353377</td>\n",
       "      <td>0.590806</td>\n",
       "      <td>1.078803</td>\n",
       "      <td>6.0</td>\n",
       "      <td>25.365</td>\n",
       "      <td>22.181059</td>\n",
       "      <td>6.0</td>\n",
       "      <td>9.687049</td>\n",
       "      <td>81.209556</td>\n",
       "      <td>-5.580018</td>\n",
       "    </tr>\n",
       "  </tbody>\n",
       "</table>\n",
       "</div>"
      ],
      "text/plain": [
       "   Score mean  CO2 emissions (metric tons per capita) log  \\\n",
       "0      7.5114                                    0.675108   \n",
       "1      7.5110                                    0.772409   \n",
       "2      7.5460                                    0.845305   \n",
       "3      7.5410                                    1.017703   \n",
       "4      7.3506                                    1.182819   \n",
       "\n",
       "   GDP per capita (current US$) log  \\\n",
       "0                          4.917220   \n",
       "1                          4.743932   \n",
       "2                          4.768797   \n",
       "3                          4.944372   \n",
       "4                          4.681754   \n",
       "\n",
       "   Individuals using the Internet (% of population)  Land area (sq. km) log  \\\n",
       "0                                         86.791615                4.596773   \n",
       "1                                         96.981917                5.001084   \n",
       "2                                         94.347397                4.624156   \n",
       "3                                         95.537903                5.562487   \n",
       "4                                         86.422500                6.958732   \n",
       "\n",
       "   Life expectancy at birth, total (years)  \\\n",
       "0                                83.026287   \n",
       "1                                82.454472   \n",
       "2                                80.440108   \n",
       "3                                81.969919   \n",
       "4                                81.732249   \n",
       "\n",
       "   PM2.5 air pollution, mean annual exposure (micrograms per cubic meter) log  \\\n",
       "0                                           1.066573                            \n",
       "1                                           0.856043                            \n",
       "2                                           1.043249                            \n",
       "3                                           0.886375                            \n",
       "4                                           0.878417                            \n",
       "\n",
       "   People using at least basic drinking water services (% of population)  \\\n",
       "0                                         100.000000                       \n",
       "1                                          99.999999                       \n",
       "2                                          99.999999                       \n",
       "3                                         100.000000                       \n",
       "4                                          99.353377                       \n",
       "\n",
       "   Population density (people per sq. km of land area) log  \\\n",
       "0                                           2.316057         \n",
       "1                                           0.517619         \n",
       "2                                           2.128672         \n",
       "3                                           1.146877         \n",
       "4                                           0.590806         \n",
       "\n",
       "   Population growth (annual %)  Primary education, duration (years)  \\\n",
       "0                      1.052495                                  6.0   \n",
       "1                      1.133978                                  7.0   \n",
       "2                      0.531352                                  6.9   \n",
       "3                      1.059666                                  7.0   \n",
       "4                      1.078803                                  6.0   \n",
       "\n",
       "   Proportion of seats held by women in national parliaments (%)  \\\n",
       "0                                             30.800               \n",
       "1                                             41.440               \n",
       "2                                             38.311               \n",
       "3                                             39.903               \n",
       "4                                             25.365               \n",
       "\n",
       "   Renewable energy consumption (% of total final energy consumption)  \\\n",
       "0                                          22.946425                    \n",
       "1                                          76.467214                    \n",
       "2                                          27.220085                    \n",
       "3                                          57.320681                    \n",
       "4                                          22.181059                    \n",
       "\n",
       "   Secondary education, duration (years)  \\\n",
       "0                                    7.0   \n",
       "1                                    7.0   \n",
       "2                                    6.0   \n",
       "3                                    6.0   \n",
       "4                                    6.0   \n",
       "\n",
       "   Terrestrial protected areas (% of total land area)  \\\n",
       "0                                           9.660123    \n",
       "1                                          17.914355    \n",
       "2                                          17.921347    \n",
       "3                                          17.060995    \n",
       "4                                           9.687049    \n",
       "\n",
       "   Urban population (% of total population)  \\\n",
       "0                                 73.697333   \n",
       "1                                 93.675778   \n",
       "2                                 87.377222   \n",
       "3                                 80.678222   \n",
       "4                                 81.209556   \n",
       "\n",
       "   Refugees country of origin (% of total population log  \n",
       "0                                          -5.736739      \n",
       "1                                          -5.066406      \n",
       "2                                          -5.863501      \n",
       "3                                          -5.709362      \n",
       "4                                          -5.580018      "
      ]
     },
     "execution_count": 25,
     "metadata": {},
     "output_type": "execute_result"
    }
   ],
   "source": [
    "df.head()"
   ]
  },
  {
   "cell_type": "code",
   "execution_count": null,
   "metadata": {},
   "outputs": [],
   "source": [
    "# Order of importance of variables standard scaled\n",
    "\n",
    "# 1: GDP per capita (current US$)\n",
    "# 2: Life expectancy at birth, total (years)\n",
    "# 3: Refugees country of origin (% of total population\n",
    "# 4: Renewable energy consumption (% of total final energy consumption)\n",
    "# 5: People using at least basic drinking water services (% of population)\n",
    "# 6: Individuals using the Internet (% of population)\n",
    "# 7: Population growth (annual %)\n",
    "\n",
    "# 8: Primary education, duration (years)\n",
    "# 9: Secondary education, duration (years)\n",
    "# 10: CO2 emissions (metric tons per capita)\n",
    "# 11: Population density (people per sq. km of land area)\n",
    "# 12: Proportion of seats held by women in national parliaments (%)\n",
    "# 13: PM2.5 air pollution, mean annual exposure (micrograms per cubic meter)\n",
    "# 14: Terrestrial protected areas (% of total land area)\n",
    "# 15: Land area (sq. km)\n",
    "# 16: Urban population (% of total population)"
   ]
  },
  {
   "cell_type": "code",
   "execution_count": null,
   "metadata": {},
   "outputs": [],
   "source": [
    "# Order of importance of variables robust scaled\n",
    "# up to 7 they're all the same\n",
    "\n",
    "# 1: GDP per capita (current US$)\n",
    "# 2: Life expectancy at birth, total (years)\n",
    "# 3: Refugees country of origin (% of total population\n",
    "# 4: Renewable energy consumption (% of total final energy consumption)\n",
    "# 5: People using at least basic drinking water services (% of population)\n",
    "# 6: Individuals using the Internet (% of population)\n",
    "# 7: Population growth (annual %)\n",
    "\n",
    "# 8: PM2.5 air pollution, mean annual exposure (micrograms per cubic meter)\n",
    "# 9: Proportion of seats held by women in national parliaments (%)\n",
    "# 10: Primary education, duration (years)\n",
    "# 11: Secondary education, duration (years)\n",
    "# 12: CO2 emissions (metric tons per capita)\n",
    "# 13: Population density (people per sq. km of land area)\n",
    "# 14: Terrestrial protected areas (% of total land area)\n",
    "# 15: Land area (sq. km)\n",
    "# 16: Urban population (% of total population)\n",
    "\n",
    "# overall, robust scaled performs slightly better as a model and it works better with outliers so we're going forward with this one\n"
   ]
  },
  {
   "cell_type": "code",
   "execution_count": null,
   "metadata": {},
   "outputs": [],
   "source": [
    "dfscaled2_16 = df_scaled2.copy()\n",
    "dfscaled2_16.head()"
   ]
  },
  {
   "cell_type": "code",
   "execution_count": null,
   "metadata": {},
   "outputs": [],
   "source": [
    "dfscaled2_15 = dfscaled2_16.drop(['Urban population (% of total population)'], axis=1)\n",
    "dfscaled2_14 = dfscaled2_15.drop(['Land area (sq. km)'], axis=1)\n",
    "dfscaled2_13 = dfscaled2_14.drop(['Terrestrial protected areas (% of total land area)'], axis=1)\n",
    "dfscaled2_12 = dfscaled2_13.drop(['Population density (people per sq. km of land area)'], axis=1)\n",
    "dfscaled2_11 = dfscaled2_12.drop(['CO2 emissions (metric tons per capita)'], axis=1)\n",
    "dfscaled2_10 = dfscaled2_11.drop(['Secondary education, duration (years)'], axis=1)\n",
    "dfscaled2_9 = dfscaled2_10.drop(['Primary education, duration (years)'], axis=1)\n",
    "dfscaled2_8 = dfscaled2_9.drop(['Proportion of seats held by women in national parliaments (%)'], axis=1)\n",
    "dfscaled2_7 = dfscaled2_8.drop(['PM2.5 air pollution, mean annual exposure (micrograms per cubic meter)'], axis=1)\n",
    "dfscaled2_6 = dfscaled2_7.drop(['Population growth (annual %)'], axis=1)\n",
    "dfscaled2_5 = dfscaled2_6.drop(['Individuals using the Internet (% of population)'], axis=1)\n",
    "dfscaled2_4 = dfscaled2_5.drop(['People using at least basic drinking water services (% of population)'], axis=1)\n",
    "dfscaled2_3 = dfscaled2_4.drop(['Renewable energy consumption (% of total final energy consumption)'], axis=1)\n",
    "dfscaled2_2 = dfscaled2_3.drop(['Refugees country of origin (% of total population'], axis=1)\n",
    "dfscaled2_1 = dfscaled2_2.drop(['Life expectancy at birth, total (years)'], axis=1)\n"
   ]
  },
  {
   "cell_type": "code",
   "execution_count": null,
   "metadata": {},
   "outputs": [],
   "source": [
    "dfscaled2_2.head()"
   ]
  },
  {
   "cell_type": "code",
   "execution_count": null,
   "metadata": {},
   "outputs": [],
   "source": [
    "linear_regression(dfscaled2_16, 0.20)"
   ]
  },
  {
   "cell_type": "code",
   "execution_count": null,
   "metadata": {},
   "outputs": [],
   "source": [
    "linear_regression(dfscaled2_15, 0.20)"
   ]
  },
  {
   "cell_type": "code",
   "execution_count": null,
   "metadata": {},
   "outputs": [],
   "source": [
    "linear_regression(dfscaled2_14, 0.20)"
   ]
  },
  {
   "cell_type": "code",
   "execution_count": null,
   "metadata": {},
   "outputs": [],
   "source": [
    "linear_regression(dfscaled2_13, 0.20)"
   ]
  },
  {
   "cell_type": "code",
   "execution_count": null,
   "metadata": {},
   "outputs": [],
   "source": [
    "linear_regression(dfscaled2_12, 0.20)"
   ]
  },
  {
   "cell_type": "code",
   "execution_count": null,
   "metadata": {},
   "outputs": [],
   "source": [
    "linear_regression(dfscaled2_11, 0.20)"
   ]
  },
  {
   "cell_type": "code",
   "execution_count": null,
   "metadata": {},
   "outputs": [],
   "source": [
    "linear_regression(dfscaled2_10, 0.20)"
   ]
  },
  {
   "cell_type": "code",
   "execution_count": null,
   "metadata": {},
   "outputs": [],
   "source": [
    "linear_regression(dfscaled2_9, 0.20)"
   ]
  },
  {
   "cell_type": "code",
   "execution_count": null,
   "metadata": {},
   "outputs": [],
   "source": [
    "linear_regression(dfscaled2_8, 0.20)"
   ]
  },
  {
   "cell_type": "code",
   "execution_count": null,
   "metadata": {},
   "outputs": [],
   "source": [
    "linear_regression(dfscaled2_7, 0.20)"
   ]
  },
  {
   "cell_type": "code",
   "execution_count": null,
   "metadata": {},
   "outputs": [],
   "source": [
    "linear_regression(dfscaled2_6, 0.20)"
   ]
  },
  {
   "cell_type": "code",
   "execution_count": null,
   "metadata": {},
   "outputs": [],
   "source": [
    "linear_regression(dfscaled2_5, 0.20)"
   ]
  },
  {
   "cell_type": "code",
   "execution_count": null,
   "metadata": {},
   "outputs": [],
   "source": [
    "linear_regression(dfscaled2_4, 0.20)"
   ]
  },
  {
   "cell_type": "code",
   "execution_count": null,
   "metadata": {},
   "outputs": [],
   "source": [
    "linear_regression(dfscaled2_3, 0.20)"
   ]
  },
  {
   "cell_type": "code",
   "execution_count": null,
   "metadata": {},
   "outputs": [],
   "source": [
    "linear_regression(dfscaled2_2, 0.20)"
   ]
  },
  {
   "cell_type": "code",
   "execution_count": null,
   "metadata": {},
   "outputs": [],
   "source": [
    "linear_regression(dfscaled2_1, 0.20)"
   ]
  },
  {
   "cell_type": "code",
   "execution_count": null,
   "metadata": {},
   "outputs": [],
   "source": [
    "# put into dataframe\n",
    "\n",
    "data = [[1, 0.724442, 0.701563],\n",
    "        [2, 0.746336, 0.719748],\n",
    "        [3, 0.761416, 0.735143],\n",
    "        [4, 0.769537, 0.736243],\n",
    "        [5, 0.774668, 0.733050],\n",
    "        [6, 0.775586, 0.731938],\n",
    "        [7, 0.783696, 0.736203],\n",
    "        [8, 0.791826, 0.735551],\n",
    "        [9, 0.798138, 0.737627],\n",
    "        [10, 0.798904, 0.740897],\n",
    "        [11, 0.803905, 0.736488],\n",
    "        [12, 0.803887, 0.736370],\n",
    "        [13, 0.809217, 0.744408],\n",
    "        [14, 0.813000, 0.737465],\n",
    "        [15, 0.813834, 0.736007],\n",
    "        [16, 0.814454, 0.733431]]\n",
    "\n",
    "df_R2_scores = pd.DataFrame(data, columns = ['Nr of variables', 'R2_score_train', 'R2_score_test'])\n",
    "df_R2_scores"
   ]
  },
  {
   "cell_type": "code",
   "execution_count": null,
   "metadata": {},
   "outputs": [],
   "source": [
    "dfr2_melt = pd.melt(df_R2_scores, id_vars = ['Nr of variables'], value_vars = ['R2_score_train', 'R2_score_test'])\n",
    "dfr2_melt"
   ]
  },
  {
   "cell_type": "code",
   "execution_count": null,
   "metadata": {},
   "outputs": [],
   "source": [
    "sns.lineplot(x = 'Nr of variables', y = 'value', hue = 'variable', data = dfr2_melt, linewidth=2.5)"
   ]
  },
  {
   "cell_type": "code",
   "execution_count": null,
   "metadata": {},
   "outputs": [],
   "source": [
    "sns.set()\n",
    "sns.set_style('white')\n",
    "sns.set_color_codes('pastel')\n",
    "\n",
    "f, ax = plt.subplots(figsize=(20, 12))\n",
    "\n",
    "sns.lineplot(x = 'Nr of variables', y = 'value', hue = 'variable', palette = 'Set2', data = dfr2_melt, linewidth=4)\n",
    "\n",
    "ax.tick_params(axis='both', which='major', labelsize=26) \n",
    "ax.tick_params(axis='both', which='minor', labelsize=26)\n",
    "ax.set_xticks(range(0, 17, 2))\n",
    "\n",
    "ax.legend(loc=\"lower right\", frameon=True, fontsize = 20)\n",
    "\n",
    "plt.xlabel('Number of variables', fontsize=30)\n",
    "plt.ylabel('R2 score', fontsize=30)\n",
    "plt.suptitle('R2 train and test scores recursive feature elimination', fontsize=36)\n",
    "\n",
    "sns.despine()"
   ]
  },
  {
   "cell_type": "code",
   "execution_count": null,
   "metadata": {},
   "outputs": [],
   "source": []
  },
  {
   "cell_type": "code",
   "execution_count": null,
   "metadata": {},
   "outputs": [],
   "source": []
  },
  {
   "cell_type": "code",
   "execution_count": null,
   "metadata": {},
   "outputs": [],
   "source": []
  },
  {
   "cell_type": "code",
   "execution_count": null,
   "metadata": {},
   "outputs": [],
   "source": []
  },
  {
   "cell_type": "code",
   "execution_count": null,
   "metadata": {},
   "outputs": [],
   "source": []
  },
  {
   "cell_type": "code",
   "execution_count": null,
   "metadata": {},
   "outputs": [],
   "source": []
  }
 ],
 "metadata": {
  "kernelspec": {
   "display_name": "Python 3",
   "language": "python",
   "name": "python3"
  },
  "language_info": {
   "codemirror_mode": {
    "name": "ipython",
    "version": 3
   },
   "file_extension": ".py",
   "mimetype": "text/x-python",
   "name": "python",
   "nbconvert_exporter": "python",
   "pygments_lexer": "ipython3",
   "version": "3.7.3"
  }
 },
 "nbformat": 4,
 "nbformat_minor": 2
}
