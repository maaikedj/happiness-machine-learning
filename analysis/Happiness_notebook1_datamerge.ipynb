{
 "cells": [
  {
   "cell_type": "markdown",
   "metadata": {},
   "source": [
    "# Analysis of the UN's World Happiness Index with machine learning  \n",
    "Maaike de Jong  \n",
    "June 2020  \n",
    "  \n",
    "See the repository's [README](https://github.com/maaikedj/happiness-machine-learning/blob/master/README.md) file for background and details on the analysis and data.  \n",
    "\n",
    "### Notebook 1: combining data files\n",
    "\n",
    "In this notebook I combine data on the World Happiness Index 2015-2019 with data on World Development Indicators from the World Bank.\n"
   ]
  },
  {
   "cell_type": "code",
   "execution_count": null,
   "metadata": {},
   "outputs": [],
   "source": [
    "# import packages\n",
    "\n",
    "import numpy as np\n",
    "import pandas as pd"
   ]
  },
  {
   "cell_type": "code",
   "execution_count": null,
   "metadata": {
    "scrolled": true
   },
   "outputs": [],
   "source": [
    "# import happiness index files of the past 5 years\n",
    "\n",
    "hap15 = pd.read_csv('../data/2015.csv')\n",
    "hap15.head()"
   ]
  },
  {
   "cell_type": "code",
   "execution_count": null,
   "metadata": {
    "scrolled": true
   },
   "outputs": [],
   "source": [
    "hap16 = pd.read_csv('../data/2016.csv')\n",
    "hap16.head()"
   ]
  },
  {
   "cell_type": "code",
   "execution_count": null,
   "metadata": {
    "scrolled": true
   },
   "outputs": [],
   "source": [
    "hap17 = pd.read_csv('../data/2017.csv')\n",
    "hap17.head()"
   ]
  },
  {
   "cell_type": "code",
   "execution_count": null,
   "metadata": {},
   "outputs": [],
   "source": [
    "hap18 = pd.read_csv('../data/2018.csv')\n",
    "hap18.head()"
   ]
  },
  {
   "cell_type": "code",
   "execution_count": null,
   "metadata": {
    "scrolled": false
   },
   "outputs": [],
   "source": [
    "hap19 = pd.read_csv('../data/2019.csv')\n",
    "hap19.head()"
   ]
  },
  {
   "cell_type": "code",
   "execution_count": null,
   "metadata": {},
   "outputs": [],
   "source": [
    "# Select only country/ Region, happiness rank and happiness score\n",
    "# Dealing with inconsistencies in column names\n",
    "\n",
    "hap15_select = hap15[['Country', 'Region', 'Happiness Rank', 'Happiness Score']]\n",
    "hap16_select = hap16[['Country', 'Happiness Rank', 'Happiness Score']]\n",
    "hap17_select = hap17[['Country', 'Happiness.Rank', 'Happiness.Score']]\n",
    "hap18_select = hap18[['Country or region', 'Overall rank', 'Score']]\n",
    "hap19_select = hap19[['Country or region', 'Overall rank', 'Score']]"
   ]
  },
  {
   "cell_type": "code",
   "execution_count": null,
   "metadata": {},
   "outputs": [],
   "source": [
    "hap15_s1 = hap15_select.rename(columns={'Happiness Rank': 'Happiness Rank 2015', 'Happiness Score': 'Happiness Score 2015'})\n",
    "hap15_s1.head()"
   ]
  },
  {
   "cell_type": "code",
   "execution_count": null,
   "metadata": {},
   "outputs": [],
   "source": [
    "hap16_s1 = hap16_select.rename(columns={'Happiness Rank': 'Happiness Rank 2016', 'Happiness Score': 'Happiness Score 2016'})\n",
    "hap16_s1.head()"
   ]
  },
  {
   "cell_type": "code",
   "execution_count": null,
   "metadata": {
    "scrolled": true
   },
   "outputs": [],
   "source": [
    "hap17_s1 = hap17_select.rename(columns={'Happiness.Rank': 'Happiness Rank 2017', 'Happiness.Score': 'Happiness Score 2017'})\n",
    "hap17_s1.head()"
   ]
  },
  {
   "cell_type": "code",
   "execution_count": null,
   "metadata": {},
   "outputs": [],
   "source": [
    "hap18_s1 = hap18_select.rename(columns={'Country or region': 'Country', 'Overall rank': 'Happiness Rank 2018', 'Score': 'Happiness Score 2018'})\n",
    "hap18_s1.head()"
   ]
  },
  {
   "cell_type": "code",
   "execution_count": null,
   "metadata": {},
   "outputs": [],
   "source": [
    "hap19_s1 = hap19_select.rename(columns={'Country or region': 'Country', 'Overall rank': 'Happiness Rank 2019', 'Score': 'Happiness Score 2019'})\n",
    "hap19_s1.head()"
   ]
  },
  {
   "cell_type": "code",
   "execution_count": null,
   "metadata": {},
   "outputs": [],
   "source": [
    "# before merging on country, check whether countries are written the same\n",
    "\n",
    "list15 = hap15_s1['Country'].values.tolist()\n",
    "list16 = hap16_s1['Country'].values.tolist()"
   ]
  },
  {
   "cell_type": "code",
   "execution_count": null,
   "metadata": {},
   "outputs": [],
   "source": [
    "(list(set(list15) - set(list16)))"
   ]
  },
  {
   "cell_type": "code",
   "execution_count": null,
   "metadata": {},
   "outputs": [],
   "source": [
    "(list(set(list16) - set(list15)))\n",
    "\n",
    "# Somaliland region occurs in both lists but written slightly different, needs to be changed"
   ]
  },
  {
   "cell_type": "code",
   "execution_count": null,
   "metadata": {},
   "outputs": [],
   "source": [
    "hap16_s2 = hap16_s1.replace({'Country': {'Somaliland Region': 'Somaliland region'}})"
   ]
  },
  {
   "cell_type": "code",
   "execution_count": null,
   "metadata": {},
   "outputs": [],
   "source": [
    "# merge 2016 df on 2015 df\n",
    "\n",
    "df = pd.merge(hap15_s1, hap16_s2, on = 'Country', how = 'outer')"
   ]
  },
  {
   "cell_type": "code",
   "execution_count": null,
   "metadata": {},
   "outputs": [],
   "source": [
    "# before merging 2017 df on country, again check whether countries are written the same\n",
    "\n",
    "df_list = df['Country'].values.tolist()\n",
    "list17 = hap17_s1['Country'].values.tolist()"
   ]
  },
  {
   "cell_type": "code",
   "execution_count": null,
   "metadata": {},
   "outputs": [],
   "source": [
    "(list(set(df_list) - set(list17)))"
   ]
  },
  {
   "cell_type": "code",
   "execution_count": null,
   "metadata": {},
   "outputs": [],
   "source": [
    "(list(set(list17) - set(df_list)))\n",
    "\n",
    "# in the 2017 df the names for Hong Kong and Taiwan need to be changed"
   ]
  },
  {
   "cell_type": "code",
   "execution_count": null,
   "metadata": {},
   "outputs": [],
   "source": [
    "hap17_s2 = hap17_s1.replace({'Country': {'Hong Kong S.A.R., China': 'Hong Kong', 'Taiwan Province of China': 'Taiwan'}})"
   ]
  },
  {
   "cell_type": "code",
   "execution_count": null,
   "metadata": {},
   "outputs": [],
   "source": [
    "# merge dataframes\n",
    "\n",
    "df2 = pd.merge(df, hap17_s2, on = 'Country', how = 'outer')"
   ]
  },
  {
   "cell_type": "code",
   "execution_count": null,
   "metadata": {},
   "outputs": [],
   "source": [
    "# again before merging 2018, check whether countries are written the same\n",
    "\n",
    "df2_list = df2['Country'].values.tolist()\n",
    "list18 = hap18_s1['Country'].values.tolist()"
   ]
  },
  {
   "cell_type": "code",
   "execution_count": null,
   "metadata": {},
   "outputs": [],
   "source": [
    "(list(set(df2_list) - set(list18)))"
   ]
  },
  {
   "cell_type": "code",
   "execution_count": null,
   "metadata": {},
   "outputs": [],
   "source": [
    "(list(set(list18) - set(df2_list)))"
   ]
  },
  {
   "cell_type": "code",
   "execution_count": null,
   "metadata": {},
   "outputs": [],
   "source": [
    "# fix country names\n",
    "\n",
    "hap18_s2 = hap18_s1.replace({'Country': {'Trinidad & Tobago': 'Trinidad and Tobago', 'Northern Cyprus': 'North Cyprus'}})"
   ]
  },
  {
   "cell_type": "code",
   "execution_count": null,
   "metadata": {},
   "outputs": [],
   "source": [
    "# merge dataframes\n",
    "\n",
    "df3 = pd.merge(df2, hap18_s2, on = 'Country', how = 'outer')"
   ]
  },
  {
   "cell_type": "code",
   "execution_count": null,
   "metadata": {},
   "outputs": [],
   "source": [
    "# again before merging 2019, check whether countries are written the same\n",
    "\n",
    "df3_list = df3['Country'].values.tolist()\n",
    "list19 = hap19_s1['Country'].values.tolist()"
   ]
  },
  {
   "cell_type": "code",
   "execution_count": null,
   "metadata": {},
   "outputs": [],
   "source": [
    "(list(set(df3_list) - set(list19)))"
   ]
  },
  {
   "cell_type": "code",
   "execution_count": null,
   "metadata": {},
   "outputs": [],
   "source": [
    "(list(set(list19) - set(df3_list)))"
   ]
  },
  {
   "cell_type": "code",
   "execution_count": null,
   "metadata": {},
   "outputs": [],
   "source": [
    "# fix country names\n",
    "\n",
    "hap19_s2 = hap19_s1.replace({'Country': {'Trinidad & Tobago': 'Trinidad and Tobago', 'Northern Cyprus': 'North Cyprus', 'North Macedonia': 'Macedonia'}})"
   ]
  },
  {
   "cell_type": "code",
   "execution_count": null,
   "metadata": {},
   "outputs": [],
   "source": [
    "# merge dataframes\n",
    "\n",
    "df4 = pd.merge(df3, hap19_s2, on = 'Country', how = 'outer')"
   ]
  },
  {
   "cell_type": "code",
   "execution_count": null,
   "metadata": {
    "scrolled": true
   },
   "outputs": [],
   "source": [
    "# check complete df with years 2015-2019\n",
    "\n",
    "df4.head(30)"
   ]
  },
  {
   "cell_type": "code",
   "execution_count": null,
   "metadata": {},
   "outputs": [],
   "source": [
    "# make new column with average rank over the years\n",
    "\n",
    "col = df4[['Happiness Rank 2015', 'Happiness Rank 2016', 'Happiness Rank 2017', 'Happiness Rank 2018', 'Happiness Rank 2019']]\n",
    "\n",
    "df4['Rank mean'] = col.mean(axis = 1, skipna = True)\n",
    "df4.head()"
   ]
  },
  {
   "cell_type": "code",
   "execution_count": null,
   "metadata": {},
   "outputs": [],
   "source": [
    "# make new rank column based on mean rank\n",
    "\n",
    "df4['Rank overall'] = df4['Rank mean'].rank(method='first', ascending=True)"
   ]
  },
  {
   "cell_type": "code",
   "execution_count": null,
   "metadata": {},
   "outputs": [],
   "source": [
    "# make new column with average happiness score over 5 years\n",
    "\n",
    "col2 = df4[['Happiness Score 2015', 'Happiness Score 2016', 'Happiness Score 2017', 'Happiness Score 2018', 'Happiness Score 2019']]\n",
    "\n",
    "df4['Score mean'] = col2.mean(axis = 1, skipna = True)\n",
    "df4.head()"
   ]
  },
  {
   "cell_type": "code",
   "execution_count": null,
   "metadata": {},
   "outputs": [],
   "source": [
    "# sort on score mean\n",
    "\n",
    "df4_sorted = df4.sort_values('Score mean', ascending = False)\n",
    "df4_sorted.head(10)"
   ]
  },
  {
   "cell_type": "code",
   "execution_count": null,
   "metadata": {},
   "outputs": [],
   "source": [
    "# Import World Bank data with World Development Indicator values per country 1960-2019\n",
    "\n",
    "WDI = pd.read_csv('../data/WDIData.csv')\n",
    "WDI.head()"
   ]
  },
  {
   "cell_type": "code",
   "execution_count": null,
   "metadata": {},
   "outputs": [],
   "source": [
    "# select relevant columns, years 2010-2019\n",
    "\n",
    "WDI2 = WDI[['Country Name', 'Country Code', 'Indicator Name', '2010', '2011', '2012', '2013', '2014', '2015', '2016', '2017', '2018', '2019']]"
   ]
  },
  {
   "cell_type": "code",
   "execution_count": null,
   "metadata": {},
   "outputs": [],
   "source": [
    "# create new column with average values over 2010-2019\n",
    "\n",
    "col3 = WDI2[['2010', '2011', '2012', '2013', '2014', '2015', '2016', '2017', '2018', '2019']]\n",
    "\n",
    "WDI2['2010_2019'] = col3.mean(axis = 1, skipna = True)\n",
    "\n",
    "WDI2.head()"
   ]
  },
  {
   "cell_type": "code",
   "execution_count": null,
   "metadata": {},
   "outputs": [],
   "source": [
    "# select relevant columns\n",
    "\n",
    "WDI3 = WDI2[['Country Name', 'Country Code', 'Indicator Name', '2010_2019']]\n",
    "WDI3.head()"
   ]
  },
  {
   "cell_type": "code",
   "execution_count": null,
   "metadata": {},
   "outputs": [],
   "source": [
    "# transpose dataframe so that each country has one row and the indicators each have a column\n",
    "\n",
    "WDI3_pivot = WDI3.pivot_table(index='Country Name', columns='Indicator Name', values='2010_2019', aggfunc = 'max').reset_index()"
   ]
  },
  {
   "cell_type": "code",
   "execution_count": null,
   "metadata": {
    "scrolled": true
   },
   "outputs": [],
   "source": [
    "WDI3_pivot.head()\n",
    "# there are 1417 columns, too many to review "
   ]
  },
  {
   "cell_type": "code",
   "execution_count": null,
   "metadata": {},
   "outputs": [],
   "source": [
    "# only select columns with less than 10% missing data\n",
    "\n",
    "WDI_select = WDI3_pivot.loc[:, WDI3_pivot.isnull().mean() < .10]"
   ]
  },
  {
   "cell_type": "code",
   "execution_count": null,
   "metadata": {
    "scrolled": true
   },
   "outputs": [],
   "source": [
    "# list the remaining indicators\n",
    "\n",
    "WDI_column_list = WDI_select.columns.tolist()\n",
    "\n",
    "WDI_column_list"
   ]
  },
  {
   "cell_type": "code",
   "execution_count": null,
   "metadata": {},
   "outputs": [],
   "source": [
    "# select 20 relevant indicators:\n",
    "\n",
    "WDI_df = WDI_select[['Country Name', 'Access to electricity (% of population)',\n",
    "                    'CO2 emissions (metric tons per capita)',\n",
    "                    'Compulsory education, duration (years)',\n",
    "                    'GDP growth (annual %)',\n",
    "                    'GDP per capita (current US$)',\n",
    "                    'Individuals using the Internet (% of population)',\n",
    "                    'Land area (sq. km)',\n",
    "                    'Life expectancy at birth, total (years)',\n",
    "                    'PM2.5 air pollution, mean annual exposure (micrograms per cubic meter)',\n",
    "                    'People using at least basic drinking water services (% of population)',\n",
    "                    'Population density (people per sq. km of land area)',\n",
    "                    'Population growth (annual %)',\n",
    "                    'Proportion of seats held by women in national parliaments (%)',\n",
    "                    'Refugee population by country or territory of origin',\n",
    "                    'Population, total',\n",
    "                    'Renewable energy consumption (% of total final energy consumption)',\n",
    "                    'School enrollment, primary (gross), gender parity index (GPI)',\n",
    "                    'Terrestrial protected areas (% of total land area)',\n",
    "                    'Urban population (% of total population)']]"
   ]
  },
  {
   "cell_type": "code",
   "execution_count": null,
   "metadata": {
    "scrolled": true
   },
   "outputs": [],
   "source": [
    "WDI_df.head()"
   ]
  },
  {
   "cell_type": "code",
   "execution_count": null,
   "metadata": {},
   "outputs": [],
   "source": [
    "# Merge happiness index df with WDI df\n",
    "# First, change column name to 'Country'\n",
    "\n",
    "WDI_df.rename(columns = {'Country Name': 'Country'}, inplace = True)\n",
    "WDI_df.head()\n"
   ]
  },
  {
   "cell_type": "code",
   "execution_count": null,
   "metadata": {},
   "outputs": [],
   "source": [
    "# Check whether country names need to be renamed\n",
    "\n",
    "df4_list = df4['Country'].values.tolist()\n",
    "\n",
    "WDI_list = WDI_df['Country'].values.tolist()"
   ]
  },
  {
   "cell_type": "code",
   "execution_count": null,
   "metadata": {},
   "outputs": [],
   "source": [
    "sorted((list(set(df4_list) - set(WDI_list))))"
   ]
  },
  {
   "cell_type": "code",
   "execution_count": null,
   "metadata": {},
   "outputs": [],
   "source": [
    "sorted(list(set(WDI_list) - set(df4_list)))"
   ]
  },
  {
   "cell_type": "code",
   "execution_count": null,
   "metadata": {},
   "outputs": [],
   "source": [
    "# Change country names that are in both lists so that they are the same\n",
    "\n",
    "WDI_df2 = WDI_df.replace({'Country': {'Congo, Rep.': 'Congo (Brazzaville)', 'Congo, Dem. Rep.': 'Congo (Kinshasa)', 'Egypt, Arab Rep.': 'Egypt', 'Gambia, The': 'Gambia', 'Hong Kong SAR, China': 'Hong Kong', 'Iran, Islamic Rep.': 'Iran', \"Cote d'Ivoire\": 'Ivory Coast', 'Kyrgyz Republic': 'Kyrgyzstan', 'Lao PDR': 'Laos', 'North Macedonia': 'Macedonia', 'West Bank and Gaza': 'Palestinian Territories', 'Russian Federation': 'Russia', 'Slovak Republic': 'Slovakia', 'Korea, Rep.': 'South Korea', 'Eswatini': 'Swaziland', 'Syrian Arab Republic': 'Syria', 'Venezuela, RB': 'Venezuela', 'Yemen, Rep.': 'Yemen'}})\n"
   ]
  },
  {
   "cell_type": "code",
   "execution_count": null,
   "metadata": {},
   "outputs": [],
   "source": [
    "# check\n",
    "\n",
    "WDI_list2 = WDI_df2['Country'].values.tolist()\n",
    "sorted((list(set(df4_list) - set(WDI_list2))))\n",
    "\n",
    "# remove 'North Cyprus', 'Somaliland region', 'Taiwan' after merge (no WDI data)"
   ]
  },
  {
   "cell_type": "code",
   "execution_count": null,
   "metadata": {},
   "outputs": [],
   "source": [
    "# Left merge WDI df on happiness index df on country\n",
    "\n",
    "df5 = pd.merge(df4, WDI_df2, on = 'Country', how = 'left')"
   ]
  },
  {
   "cell_type": "code",
   "execution_count": null,
   "metadata": {},
   "outputs": [],
   "source": [
    "df5.head()"
   ]
  },
  {
   "cell_type": "code",
   "execution_count": null,
   "metadata": {},
   "outputs": [],
   "source": [
    "print(df4.shape)\n",
    "print(df5.shape)"
   ]
  },
  {
   "cell_type": "code",
   "execution_count": null,
   "metadata": {},
   "outputs": [],
   "source": [
    "# remove 'North Cyprus', 'Somaliland region', 'Taiwan'\n",
    "\n",
    "df5[df5['Country'] == 'North Cyprus']"
   ]
  },
  {
   "cell_type": "code",
   "execution_count": null,
   "metadata": {},
   "outputs": [],
   "source": [
    "df5[df5['Country'] == 'Somaliland region']"
   ]
  },
  {
   "cell_type": "code",
   "execution_count": null,
   "metadata": {},
   "outputs": [],
   "source": [
    "df5[df5['Country'] == 'Taiwan']"
   ]
  },
  {
   "cell_type": "code",
   "execution_count": null,
   "metadata": {},
   "outputs": [],
   "source": [
    "# drop rows\n",
    "\n",
    "df6 = df5.drop([df5.index[37], df5.index[65], df5.index[90]])"
   ]
  },
  {
   "cell_type": "code",
   "execution_count": null,
   "metadata": {},
   "outputs": [],
   "source": [
    "df6 = df6.reset_index(drop = True)"
   ]
  },
  {
   "cell_type": "code",
   "execution_count": null,
   "metadata": {},
   "outputs": [],
   "source": [
    "# check number of rows\n",
    "\n",
    "df6.shape"
   ]
  },
  {
   "cell_type": "code",
   "execution_count": null,
   "metadata": {
    "scrolled": false
   },
   "outputs": [],
   "source": [
    "# Check missing data\n",
    "\n",
    "df6.isnull().sum()"
   ]
  },
  {
   "cell_type": "code",
   "execution_count": null,
   "metadata": {
    "scrolled": true
   },
   "outputs": [],
   "source": [
    "# fix missing regions\n",
    "\n",
    "df6[df6['Region'].isnull()]"
   ]
  },
  {
   "cell_type": "code",
   "execution_count": null,
   "metadata": {
    "scrolled": true
   },
   "outputs": [],
   "source": [
    "# check region names\n",
    "\n",
    "df6['Region'].value_counts()"
   ]
  },
  {
   "cell_type": "code",
   "execution_count": null,
   "metadata": {},
   "outputs": [],
   "source": [
    "# fill in regions\n",
    "\n",
    "df6.loc[155, 'Region'] = 'Latin America and Caribbean'\n",
    "df6.loc[156, 'Region'] = 'Latin America and Caribbean'\n",
    "df6.loc[157, 'Region'] = 'Sub-Saharan Africa'\n",
    "df6.loc[158, 'Region'] = 'Sub-Saharan Africa'\n",
    "df6.loc[159, 'Region'] = 'Sub-Saharan Africa'\n",
    "df6.loc[160, 'Region'] = 'Sub-Saharan Africa'\n"
   ]
  },
  {
   "cell_type": "code",
   "execution_count": null,
   "metadata": {
    "scrolled": false
   },
   "outputs": [],
   "source": [
    "# make new df for ML analysis with just the country, region, average happiness score and the selected WDIs\n",
    "\n",
    "dfML = df6.drop(['Happiness Rank 2015', 'Happiness Score 2015', 'Happiness Rank 2016', 'Happiness Score 2016', 'Happiness Rank 2017', 'Happiness Score 2017', 'Happiness Rank 2018', 'Happiness Score 2018', 'Happiness Rank 2019', 'Happiness Score 2019', 'Rank mean', 'Rank overall', 'Compulsory education, duration (years)', 'GDP growth (annual %)', 'School enrollment, primary (gross), gender parity index (GPI)'], axis=1)\n",
    "dfML.head()"
   ]
  },
  {
   "cell_type": "code",
   "execution_count": null,
   "metadata": {},
   "outputs": [],
   "source": [
    "# make new column for refugees, percentage of total population (existing column gives absolute numbers)\n",
    "\n",
    "dfML['Refugees country of origin (% of total population'] = dfML['Refugee population by country or territory of origin'] / dfML['Population, total']\n",
    "dfML.head()"
   ]
  },
  {
   "cell_type": "code",
   "execution_count": null,
   "metadata": {},
   "outputs": [],
   "source": [
    "# save df for future use\n",
    "\n",
    "dfML.to_csv('dfML.csv', index=False)"
   ]
  },
  {
   "cell_type": "code",
   "execution_count": null,
   "metadata": {},
   "outputs": [],
   "source": []
  },
  {
   "cell_type": "code",
   "execution_count": null,
   "metadata": {},
   "outputs": [],
   "source": []
  }
 ],
 "metadata": {
  "kernelspec": {
   "display_name": "Python 3",
   "language": "python",
   "name": "python3"
  },
  "language_info": {
   "codemirror_mode": {
    "name": "ipython",
    "version": 3
   },
   "file_extension": ".py",
   "mimetype": "text/x-python",
   "name": "python",
   "nbconvert_exporter": "python",
   "pygments_lexer": "ipython3",
   "version": "3.7.3"
  }
 },
 "nbformat": 4,
 "nbformat_minor": 2
}
